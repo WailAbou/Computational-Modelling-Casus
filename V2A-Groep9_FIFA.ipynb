{
 "cells": [
  {
   "cell_type": "markdown",
   "metadata": {},
   "source": [
    "<div style=\"display: block; left-margin: 0px; right-margin: 0px;\"><img src=\"FIFA_series_logo.png\" alt=\"Drawing\" style=\"width: 200px;\"/></div>\n",
    "\n",
    "# FIFA voetbal casus\n",
    "\n",
    "### Voorwoord  <a id='Voorwoord'></a>\n",
    "In deze studie zullen Wail Abou, Bart de Vries en Youssef Boulfiham een aantal onderwerpen over FIFA onderzoeken. Voor dit onderzoek zullen we te werk gaan met datasets over voetbalspelers en voetbalwedstrijden uit het seizoen 2019-2020 Met behulp van statistische analyse zullen we trachten om tot nieuwe ontdekkingen en conclusies te komen.\n",
    "\n",
    "### Inhoudsopgave <a id='Inhoudsopgave'></a>\n",
    "- [Voorwoord](#Voorwoord)\n",
    "- [Inhoudsopgave](#Inhoudsopgave)\n",
    "- [Datasets](#Datasets)\n",
    "- [Onze verwachtingen](#Onze_verwachtingen)\n",
    "- [Onderzoeken](#Onderzoeken)\n",
    "    - [libraries importeren](#libraries_importeren)\n",
    "    - [spelers-dataset importeren](#spelers-dataset)\n",
    "    - [wedstrijden-dataset importeren](#wedstrijden-dataset)\n",
    "    - [Data cleaning](#Data_cleaning)\n",
    "    - [Data exploratie](#Data_exploratie)\n",
    "    - [Spider plot van Spelers](#Spider_plot)\n",
    "    - [Onderzoeksvragen](#Onderzoeksvragen)\n",
    "        - [onderzoeksvraag 1](#1)\n",
    "        - [onderzoeksvraag 2](#2)\n",
    "        - [onderzoeksvraag 3](#3)\n",
    "\n",
    "### Datasets <a id='Datasets'></a>\n",
    "- FIFA-spelerseigenschappen van seizoen 2019-2020\n",
    "- FIFA-wedstrijd uitslagen van seizoen 2019-2020\n",
    "\n",
    "### Onze verwachtingen <a id='Onze_verwachtingen'></a>\n",
    "- Nieuwe inzichtingen over de prijs en kwaliteit verhoudingen van de spelers.\n",
    "- Voorspellingen van wedstrijden en slagingspercentage van deze wedstrijden.\n",
    "- Invloed van bepaalde specifieke factoren op de prijs bepaling van spelers.\n",
    "\n",
    "## Onderzoeken <a id='Onderzoeken'></a>\n",
    "\n",
    "###### libraries importeren <a id='libraries_importeren'></a>"
   ]
  },
  {
   "cell_type": "code",
   "execution_count": 325,
   "metadata": {
    "pycharm": {
     "name": "#%%\n"
    }
   },
   "outputs": [],
   "source": [
    "# libraries  importeren.\n",
    "import numpy as np\n",
    "import pandas as pd\n",
    "import matplotlib as mp\n",
    "import matplotlib.pyplot as plt\n",
    "import seaborn as sns\n",
    "import csv, glob, os\n",
    "from ipywidgets import interact, widgets, interactive\n",
    "from sklearn.linear_model import LinearRegression\n",
    "\n",
    "# modules voor warning supressions.\n",
    "import warnings\n",
    "import matplotlib.cbook\n",
    "warnings.filterwarnings(\"ignore\",category=matplotlib.cbook.mplDeprecation)"
   ]
  },
  {
   "cell_type": "markdown",
   "metadata": {},
   "source": [
    "###### Spelers-dataset importeren <a id='Spelers-dataset'></a>\n",
    "\n",
    "begeleidend schrijven."
   ]
  },
  {
   "cell_type": "code",
   "execution_count": 326,
   "metadata": {
    "scrolled": true
   },
   "outputs": [],
   "source": [
    "# .csv bestand uitlezen en omzetten naar pandas array van 18207x89\n",
    "players = pd.read_csv('csv/fifa19.csv')\n",
    "# players"
   ]
  },
  {
   "cell_type": "markdown",
   "metadata": {},
   "source": [
    "###### wedstrijden-dataset importeren <a id='wedstrijden-dataset'></a>\n",
    "\n",
    "begeleidend schrijven."
   ]
  },
  {
   "cell_type": "code",
   "execution_count": 327,
   "metadata": {},
   "outputs": [],
   "source": [
    "# Alle files via de path krijgen\n",
    "path = r'wedstrijden'     \n",
    "all_files = glob.glob(os.path.join(path, \"*.csv\"))\n",
    "\n",
    "# Alle files in een dataframe inlezen via een list comprehension\n",
    "data_frames = (pd.read_csv(f, encoding='cp1252', sep=';') for f in all_files)\n",
    "clubs = pd.concat(data_frames, ignore_index=True)\n",
    "\n",
    "# Relevanten kollommen selecteren\n",
    "clubs = clubs[[\"Date\", \"HomeTeam\", \"AwayTeam\", \"FTHG\", \"FTAG\"]]\n",
    "\n",
    "# De date omzetten naar de date object van panda\n",
    "clubs.Date = pd.to_datetime(clubs.Date)\n",
    "\n",
    "# De entries droppen die onder 2019 vallen\n",
    "clubs = clubs.drop(clubs[clubs.Date < pd.Timestamp(2019, 1, 1)].index)\n",
    "\n",
    "# Nieuwe kollom maken met de winnende team\n",
    "clubs[\"WinningTeam\"] = np.where(clubs[\"FTHG\"] >= clubs[\"FTAG\"], clubs[\"HomeTeam\"], clubs[\"AwayTeam\"])\n",
    "\n",
    "# clubs"
   ]
  },
  {
   "cell_type": "code",
   "execution_count": 328,
   "metadata": {
    "scrolled": true
   },
   "outputs": [],
   "source": [
    "# lijst van alle onderdelen van de dataset\n",
    "# print(\"kolommen:\\n\",players.columns)"
   ]
  },
  {
   "cell_type": "markdown",
   "metadata": {},
   "source": [
    "### Data cleaning <a id='Data_cleaning'></a>\n",
    "\n",
    "Data types controleren  \n",
    "Bepaalde data types (height weight en value) omzetten naar float."
   ]
  },
  {
   "cell_type": "code",
   "execution_count": 329,
   "metadata": {
    "scrolled": false
   },
   "outputs": [
    {
     "data": {
      "text/plain": [
       "Unnamed: 0          int64\n",
       "ID                  int64\n",
       "Name               object\n",
       "Age                 int64\n",
       "Photo              object\n",
       "                   ...   \n",
       "GKHandling        float64\n",
       "GKKicking         float64\n",
       "GKPositioning     float64\n",
       "GKReflexes        float64\n",
       "Release Clause     object\n",
       "Length: 89, dtype: object"
      ]
     },
     "execution_count": 329,
     "metadata": {},
     "output_type": "execute_result"
    }
   ],
   "source": [
    "# data types van alle onderdelen.\n",
    "players.dtypes"
   ]
  },
  {
   "cell_type": "markdown",
   "metadata": {},
   "source": [
    "Controleren of lege kolommen in de dataset bevind.   \n",
    "het grootste deel van alle waardes zijn er.\n",
    "bij de meeste mis onder 0,5% dus dit zal relatief schadeloos zijn."
   ]
  },
  {
   "cell_type": "code",
   "execution_count": 330,
   "metadata": {},
   "outputs": [
    {
     "name": "stdout",
     "output_type": "stream",
     "text": [
      "Unnamed: 0           0\n",
      "ID                   0\n",
      "Name                 0\n",
      "Age                  0\n",
      "Photo                0\n",
      "                  ... \n",
      "GKHandling          48\n",
      "GKKicking           48\n",
      "GKPositioning       48\n",
      "GKReflexes          48\n",
      "Release Clause    1564\n",
      "Length: 89, dtype: int64\n"
     ]
    }
   ],
   "source": [
    "#check voor lege waardes.\n",
    "print(pd.isnull(players).sum())"
   ]
  },
  {
   "cell_type": "code",
   "execution_count": 331,
   "metadata": {},
   "outputs": [
    {
     "name": "stdout",
     "output_type": "stream",
     "text": [
      "Weight    float64\n",
      "Height    float64\n",
      "Value       int32\n",
      "dtype: object\n"
     ]
    }
   ],
   "source": [
    "# We halen de lbs aan het einde weg en zetten we het om in een float\n",
    "players['Weight'] = players['Weight'].str[:-3].astype(float)\n",
    "\n",
    "# We halen de ' weg en vervangen het met . en vervolgens zetten we het om in een float\n",
    "players['Height'] = players['Height'].str.replace(\"'\", \".\").astype(float)\n",
    "\n",
    "# We halen de € en . weg, vervolgens vervangen we M met 6 nullen en K met 3 nullen en zetten het om in een int\n",
    "players['Value'] = players['Value'].str.replace('€', '').str.replace('.', '')\n",
    "players['Value'] = players['Value'].str.replace('M', '000000')\n",
    "players['Value'] = players['Value'].str.replace('K', '000').astype(int)\n",
    "\n",
    "# Laatste check om te zien of alles nu wel correct is\n",
    "print(players[['Weight', 'Height', 'Value']].dtypes)"
   ]
  },
  {
   "cell_type": "markdown",
   "metadata": {},
   "source": [
    "We kunnen nu hierboven zien dat ze nu wel de juiste waarde hebben."
   ]
  },
  {
   "cell_type": "markdown",
   "metadata": {},
   "source": [
    "### Data exploratie <a id='Data_exploratie'></a>"
   ]
  },
  {
   "cell_type": "markdown",
   "metadata": {},
   "source": [
    "Laten we kijken hoe een frequentieplot er uit ziet met betrekking tot de overall waarde. "
   ]
  },
  {
   "cell_type": "code",
   "execution_count": 332,
   "metadata": {
    "scrolled": true
   },
   "outputs": [
    {
     "data": {
      "text/plain": [
       "[Text(0, 0.5, 'frequentie'),\n",
       " Text(0.5, 0, 'Overall'),\n",
       " Text(0.5, 1.0, 'Overall x frequentie')]"
      ]
     },
     "execution_count": 332,
     "metadata": {},
     "output_type": "execute_result"
    },
    {
     "data": {
      "image/png": "[encoded data removed]",
      "text/plain": [
       "<Figure size 432x288 with 1 Axes>"
      ]
     },
     "metadata": {
      "needs_background": "light"
     },
     "output_type": "display_data"
    }
   ],
   "source": [
    "sns.distplot(players['Overall'], kde=False, rug=True).set(title='Overall x frequentie', xlabel='Overall', ylabel='frequentie')"
   ]
  },
  {
   "cell_type": "markdown",
   "metadata": {},
   "source": [
    "Het geen wat gelijk opvalt is dat er een kolom leeg is namelijk die van 69.   \n",
    "Dit komt niet door de data maar door de manier waarop we plotten, laten we een kijkje nemen naar de juiste aanpak."
   ]
  },
  {
   "cell_type": "code",
   "execution_count": 357,
   "metadata": {},
   "outputs": [
    {
     "data": {
      "text/plain": [
       "[Text(0, 0.5, 'frequentie'),\n",
       " Text(0.5, 0, 'Overall'),\n",
       " Text(0.5, 1.0, 'Overall x frequentie')]"
      ]
     },
     "execution_count": 357,
     "metadata": {},
     "output_type": "execute_result"
    },
    {
     "data": {
      "image/png": "[encoded data removed]",
      "text/plain": [
       "<Figure size 432x288 with 1 Axes>"
      ]
     },
     "metadata": {
      "needs_background": "light"
     },
     "output_type": "display_data"
    }
   ],
   "source": [
    "bin_amount = len(players['Overall'].unique())\n",
    "sns.distplot(players['Overall'], kde=False, rug=True, bins=bin_amount).set(\n",
    "    title='Overall x frequentie', xlabel='Overall', ylabel='frequentie')"
   ]
  },
  {
   "cell_type": "markdown",
   "metadata": {},
   "source": [
    "Hier zien we de juiste weergave van de frequentieplot, het probleem was dat seaborn zelf probeerde te gokken hoeveel waardes er in de players['Overall'] zit.  \n",
    "Maar wat seaborn niet weet is dat we een apparte staaf willen hebben voor elke unieke waarde, dus dat geven we mee als een paramater.  \n",
    "Vervolgens zien we een plot zoals we die zouden verwachten, we kunnen dit vergelijken met dataset en dan zien we dat het klopt."
   ]
  },
  {
   "cell_type": "code",
   "execution_count": 355,
   "metadata": {},
   "outputs": [
    {
     "data": {
      "text/html": [
       "<div>\n",
       "<style scoped>\n",
       "    .dataframe tbody tr th:only-of-type {\n",
       "        vertical-align: middle;\n",
       "    }\n",
       "\n",
       "    .dataframe tbody tr th {\n",
       "        vertical-align: top;\n",
       "    }\n",
       "\n",
       "    .dataframe thead th {\n",
       "        text-align: right;\n",
       "    }\n",
       "</style>\n",
       "<table border=\"1\" class=\"dataframe\">\n",
       "  <thead>\n",
       "    <tr style=\"text-align: right;\">\n",
       "      <th></th>\n",
       "      <th>Overall</th>\n",
       "    </tr>\n",
       "  </thead>\n",
       "  <tbody>\n",
       "    <tr>\n",
       "      <th>66</th>\n",
       "      <td>1163</td>\n",
       "    </tr>\n",
       "    <tr>\n",
       "      <th>67</th>\n",
       "      <td>1118</td>\n",
       "    </tr>\n",
       "    <tr>\n",
       "      <th>64</th>\n",
       "      <td>1091</td>\n",
       "    </tr>\n",
       "    <tr>\n",
       "      <th>65</th>\n",
       "      <td>1045</td>\n",
       "    </tr>\n",
       "    <tr>\n",
       "      <th>68</th>\n",
       "      <td>1035</td>\n",
       "    </tr>\n",
       "  </tbody>\n",
       "</table>\n",
       "</div>"
      ],
      "text/plain": [
       "    Overall\n",
       "66     1163\n",
       "67     1118\n",
       "64     1091\n",
       "65     1045\n",
       "68     1035"
      ]
     },
     "execution_count": 355,
     "metadata": {},
     "output_type": "execute_result"
    }
   ],
   "source": [
    "players['Overall'].value_counts().head().to_frame()"
   ]
  },
  {
   "cell_type": "markdown",
   "metadata": {},
   "source": [
    "Zoals we hier kunnen zien zal de piek rond de 66 zitten en dit klopt ook met onze grafiek.  "
   ]
  },
  {
   "cell_type": "markdown",
   "metadata": {},
   "source": [
    "###### Spider plot van Spelers <a id='spider_plot'></a>"
   ]
  },
  {
   "cell_type": "code",
   "execution_count": 335,
   "metadata": {
    "pycharm": {
     "is_executing": true
    }
   },
   "outputs": [
    {
     "data": {
      "application/vnd.jupyter.widget-view+json": {
       "model_id": "738142b7926545e59e6cbdfff153854c",
       "version_major": 2,
       "version_minor": 0
      },
      "text/plain": [
       "interactive(children=(Dropdown(description='Player 1:', options=('L. Messi', 'Cristiano Ronaldo', 'Neymar Jr',…"
      ]
     },
     "metadata": {},
     "output_type": "display_data"
    }
   ],
   "source": [
    "# Alleen relevante data selecteren en de beste en slechtste speler\n",
    "player_skills = ['Name', 'Agility', 'BallControl', 'Dribbling', 'Finishing','Stamina']\n",
    "\n",
    "# Alle spelers met de releveante data ophalen\n",
    "all_players = players[player_skills]\n",
    "all_players = all_players.set_index('Name')\n",
    "\n",
    "# Een lijst met namen van de 5 beste en 5 slechtse spelers\n",
    "all_names = list(all_players.head().index.values) + list(all_players.tail().index.values)\n",
    "\n",
    "# 2 Dropdown list widgets om een speler te kunnen selecteren\n",
    "player1_widget = widgets.Dropdown(options = all_names, value = all_names[0], description='Player 1:')\n",
    "player2_widget = widgets.Dropdown(options = all_names, value = all_names[-1], description='Player 2:')\n",
    "\n",
    "# Functie om gegeven 2 namen de spelers in een spiderplot te kunnen zetten\n",
    "def spiderplot_players(p1, p2):\n",
    "    # Groote van de plot bepalen\n",
    "    plt.figure(figsize=(20, 20))\n",
    "    \n",
    "    # De kollomen van de spelers ophalen\n",
    "    comparison_players = all_players.loc[[p1, p2]] \n",
    "\n",
    "    for name, skills in comparison_players.iterrows():\n",
    "        categories = skills.index.values\n",
    "\n",
    "        # Alle punten om te tekenen\n",
    "        points = list(skills.values)\n",
    "        points += points[:1]\n",
    "\n",
    "        # Alle hoeken berekenen\n",
    "        angles = [side / float(len(categories)) * 2 * np.pi for side in range(len(categories))]\n",
    "        angles += angles[:1]\n",
    "\n",
    "        # De spider plot aanmaken\n",
    "        sp = plt.subplot(3, 3, 1, polar=True)\n",
    "\n",
    "        # De categorieen weergeven\n",
    "        plt.xticks(angles, categories)\n",
    "\n",
    "        # De markers weergeven\n",
    "        plt.yticks([25, 50, 75], [\"25\", \"50\", \"75\"], color=\"grey\")\n",
    "        plt.ylim(0,100)\n",
    "\n",
    "        # Alles plotten en opvullen\n",
    "        sp.plot(angles, points)\n",
    "        sp.fill(angles, points, alpha=0.1)\n",
    "\n",
    "    # De titel plotten\n",
    "    names = comparison_players.index.values\n",
    "    plt.title(f'{names[0]} vs {names[1]}', y=1.1)\n",
    "    \n",
    "interactive(spiderplot_players, p1=player1_widget, p2=player2_widget)"
   ]
  },
  {
   "cell_type": "markdown",
   "metadata": {},
   "source": [
    "_Met behulp van de bovenstaande grafiek stellen we ons in staat om in een oogopslag de kernkwaliteiten van de spelers in te zien en te vergelijken._"
   ]
  },
  {
   "cell_type": "markdown",
   "metadata": {},
   "source": [
    "### Doel: alle westrijden in een dataframe te krijgen met een extra kolom voor de resultaten."
   ]
  },
  {
   "cell_type": "markdown",
   "metadata": {},
   "source": [
    "_Nu hebben we een handige tabel met daarin alleen de relevante data voor ons._"
   ]
  },
  {
   "cell_type": "markdown",
   "metadata": {},
   "source": []
  },
  {
   "cell_type": "markdown",
   "metadata": {},
   "source": [
    "### Onderzoeksvragen <a id='Onderzoeksvragen'></a>\n",
    "\n",
    "\n",
    "###### 1 In hoeverre is de prijs van een speler te voorspellen aan de hand van zijn belangrijkste kenmerken? <a id='1'></a>\n",
    "supervised\n",
    "Wij zullen bij deze vraag linear regression gebruiken om te kijken in hoeverre een punt bij de lijn zit, dit laat ons weten of er daadwerkelijk een linear verband is tussen de prijs van een speler en zijn belangrijkste kenmerken."
   ]
  },
  {
   "cell_type": "code",
   "execution_count": 336,
   "metadata": {
    "pycharm": {
     "is_executing": true
    }
   },
   "outputs": [
    {
     "data": {
      "image/png": "[encoded data removed]",
      "text/plain": [
       "<Figure size 432x288 with 1 Axes>"
      ]
     },
     "metadata": {
      "needs_background": "light"
     },
     "output_type": "display_data"
    }
   ],
   "source": [
    "value_players = players[['Agility', 'BallControl']][0:500]\n",
    "\n",
    "X = value_players.iloc[:, 0].values.reshape(-1, 1)\n",
    "Y = value_players.iloc[:, 1].values.reshape(-1, 1) \n",
    "\n",
    "linear_regressor = LinearRegression()\n",
    "linear_regressor.fit(X, Y)\n",
    "Y_pred = linear_regressor.predict(X)\n",
    "\n",
    "plt.scatter(X, Y, color='red')\n",
    "plt.plot(X, Y_pred, color='green')\n",
    "plt.show()"
   ]
  },
  {
   "cell_type": "markdown",
   "metadata": {},
   "source": [
    "###### Onderzoeksvraag 2 <a id='2'></a>\n",
    "\n",
    "__Kan je op basis van de gemiddelde waardes van een team voorspellen welke van de 2 teams zullen winnen?__\n",
    "\n",
    "\n",
    "unsupervised\n",
    "Bij deze vraag gaan we correlatie analyses uitvoeren en een externe dataset gebruiken om meer inzicht te vekrijgen, de externe dataset die we gaan gebruiken is de bovengenoemde \"FIFA-wedstrijd uitslagen van seizoen 2019-2020\"."
   ]
  },
  {
   "cell_type": "code",
   "execution_count": null,
   "metadata": {},
   "outputs": [],
   "source": []
  },
  {
   "cell_type": "markdown",
   "metadata": {},
   "source": [
    "###### Onderzoeksvraag 3 <a id='3'></a>\n",
    "__Is er een verband tussen de gewicht, lengte, prijs, leeftijd en positie van een speler?__\n",
    "\n",
    "unsupervised\n",
    "Hierbij zullen wij clustering gaan gebruiken om mogelijke patronen te ontdekken."
   ]
  },
  {
   "cell_type": "code",
   "execution_count": null,
   "metadata": {},
   "outputs": [],
   "source": []
  },
  {
   "cell_type": "markdown",
   "metadata": {
    "pycharm": {
     "name": "#%% md\n"
    }
   },
   "source": [
    "laatste opdracht: https://canvas.hu.nl/courses/20299/assignments/93793\n",
    "\n",
    "FIFA 2018\n",
    "\n",
    "Een voetbalcommentator beweert dat de potentie van de huidige generatie Engelse spelers sterk verschilt van spelers uit de rest van de wereld.\n",
    "\n",
    "Onderzoek met de dataset of de commentator gelijk heeft. Neem een steekproef van 100 Engelse spelers en beschouw als populatie alle niet-Engelse spelers in de data set. Kies als betrouwbaarheid 95%."
   ]
  },
  {
   "cell_type": "code",
   "execution_count": null,
   "metadata": {},
   "outputs": [],
   "source": []
  }
 ],
 "metadata": {
  "kernelspec": {
   "display_name": "Python 3",
   "language": "python",
   "name": "python3"
  },
  "language_info": {
   "codemirror_mode": {
    "name": "ipython",
    "version": 3
   },
   "file_extension": ".py",
   "mimetype": "text/x-python",
   "name": "python",
   "nbconvert_exporter": "python",
   "pygments_lexer": "ipython3",
   "version": "3.8.3"
  }
 },
 "nbformat": 4,
 "nbformat_minor": 4
}
