{
 "cells": [
  {
   "cell_type": "markdown",
   "metadata": {
    "collapsed": true
   },
   "source": [
    "<p style=\"text-align: center;\">FIFA voetbal casus<br>Wail Abou, Bart de Vries, Youssef Boulfiham<br>Hogeschool Utrecht</p>      \n",
    "<img src=\"FIFA_series_logo.svg.png\" alt=\"Drawing\" style=\"width: 200px;\"/>\n",
    "\n",
    "In deze studie zullen wij een aantal onderwerpen over FIFA onderzoeken. Voor dit onderzoek zullen we te werk gaan met datasets over voetbalspelers en voetbalwedstrijden uit het seizoen 2019-2020 Met behulp van statistische analyse zullen we trachten om tot nieuwe ontdekkingen en conclusies te komen.\n",
    "\n",
    "## Inhoudsopgave <a id='Inhoudsopgave'></a>\n",
    "- Data Understanding\n",
    "    - [Onderzoeksvragen](#onderzoeksvragen)\n",
    "    - [Datasets](#Datasets)\n",
    "    - [Onze verwachtingen](#Onze_verwachtingen)\n",
    "- Data preparation\n",
    "    - [Libraries importeren](#Libraries_importeren)\n",
    "    - [Spelers-dataset importeren](#Spelers_dataset)\n",
    "    - [Spelers-dataset prepareer](#Spelers_prepareer)\n",
    "    - [Wedstrijden-dataset importeren](#Wedstrijden_dataset)\n",
    "    - [Prepareer wedstrijden dataset](#Wedstrijden_prepareer)\n",
    "- Modelling\n",
    "    - [Histograms](#Histograms)\n",
    "    - [Spider plot](#Spider_plot)\n",
    "- Onderzoeksvragen\n",
    "    - [onderzoeksvraag 1](#Onderzoeksvraag_1)\n",
    "    - [onderzoeksvraag 2](#Onderzoeksvraag_2)\n",
    "    - [onderzoeksvraag 3](#Onderzoeksvraag_3)\n",
    "    - [onderzoeksvraag 4](#Onderzoeksvraag_4)\n",
    "\n",
    "## Onderzoeksvragen <a id='onderzoeksvragen'></a>\n",
    "1. In hoeverre is de prijs van een speler te voorspellen aan de hand van zijn belangrijkste kenmerken?\n",
    "2. Kan je op basis van de gemiddelde waardes van een team voorspellen welke van de 2 teams zullen winnen?\n",
    "3. Kunnen we door groepen te maken van verschillende eigenschappen van spelers bepalen in welke groep een speler hoort?\n",
    "4. Verschilt de potentie van de huidige generatie Engelse spelers sterk van spelers uit de rest van de wereld?\n",
    "\n",
    "## Datasets <a id='Datasets'></a>\n",
    "- FIFA-spelerseigenschappen van seizoen 2019-2020\n",
    "- FIFA-wedstrijd uitslagen van seizoen 2019-2020\n",
    "\n",
    "## Onze verwachtingen <a id='Onze_verwachtingen'></a>\n",
    "- Nieuwe inzichtingen over de prijs en kwaliteit verhoudingen van de spelers.\n",
    "- Voorspellingen van wedstrijden en slagingspercentage van deze wedstrijden.\n",
    "- Invloed van bepaalde specifieke factoren op de prijs bepaling van spelers.\n",
    "\n",
    "## Het onderzoek <a id='Onderzoek'></a>\n",
    "\n",
    "Om te beginnen importeren we alle benodigde libraries."
   ]
  },
  {
   "cell_type": "markdown",
   "metadata": {},
   "source": [
    "## Libraries importeren <a id='Libraries_importeren'></a>"
   ]
  },
  {
   "cell_type": "code",
   "execution_count": 188,
   "metadata": {},
   "outputs": [],
   "source": [
    "# data analysis\n",
    "import numpy as np\n",
    "import pandas as pd\n",
    "\n",
    "# visualizatie\n",
    "import matplotlib as mp\n",
    "import matplotlib.pyplot as plt\n",
    "import seaborn as sns\n",
    "from ipywidgets import interact, widgets, interactive\n",
    "\n",
    "# machine learning\n",
    "from sklearn.tree import DecisionTreeClassifier, export_graphviz\n",
    "from sklearn.model_selection import train_test_split\n",
    "from sklearn.metrics import accuracy_score, mean_squared_error, r2_score, confusion_matrix\n",
    "from sklearn.linear_model import LinearRegression\n",
    "from sklearn import preprocessing\n",
    "from scipy import stats\n",
    "from sklearn.neighbors import KNeighborsClassifier\n",
    "\n",
    "# clustering\n",
    "from sklearn.mixture import GaussianMixture\n",
    "from sklearn.cluster import KMeans\n",
    "from scipy.spatial import Voronoi, voronoi_plot_2d\n",
    "from mpl_toolkits.mplot3d import Axes3D\n",
    "\n",
    "# waarschuwing onderdrukking.\n",
    "import warnings\n",
    "import matplotlib.cbook\n",
    "warnings.filterwarnings(\"ignore\",category=matplotlib.cbook.mplDeprecation)\n",
    "\n",
    "# overige\n",
    "import glob, os"
   ]
  },
  {
   "cell_type": "markdown",
   "metadata": {},
   "source": [
    "## Spelers-dataset importeren <a id='Spelers_dataset'></a>\n",
    "\n",
    "Vervolgens importeren we alle informatie over de voetbalspelers en gespeelde voetbalwedstrijden uit het voetbalseizoen 2019-2020."
   ]
  },
  {
   "cell_type": "code",
   "execution_count": 189,
   "metadata": {},
   "outputs": [],
   "source": [
    "# spelers importeren.\n",
    "players = pd.read_csv('csv/fifa19.csv')\n",
    "\n",
    "# selecteer kolommen.\n",
    "players = players[[\"Name\", \"Club\", \"Age\", \"Nationality\", \"Value\", \"Overall\", \"Position\", \n",
    "                   \"Height\", \"Weight\", 'Stamina', 'Vision', \"Wage\", \"Potential\", \"Reactions\", \n",
    "                   'Agility', 'Finishing', 'Dribbling', 'BallControl', 'LongPassing']]"
   ]
  },
  {
   "cell_type": "markdown",
   "metadata": {},
   "source": [
    "## Spelers-dataset prepareer <a id='Spelers_prepareer'></a>\n",
    "\n",
    "De spelers-dataset bevat fouten die wij in dit gedeelte zullen oplossen.\n",
    "\n",
    "Verbeterpunten die zijn doorgevoerd op de spelers dataset zijn:\n",
    "\n",
    "1. Irrelevante kolommen filteren.\n",
    "2. Alle rijen met lege kolommen verwijderen.\n",
    "3. Alle letters filteren uit Weight.\n",
    "4. Alle apostrofs filteren uit Height.\n",
    "5. Alle waardes van Value omzetten naar volledig uitgeschreven getallen.\n",
    "6. Spellingscontrole op alle clubnamen."
   ]
  },
  {
   "cell_type": "code",
   "execution_count": 190,
   "metadata": {
    "scrolled": true
   },
   "outputs": [
    {
     "data": {
      "text/plain": [
       "Name            object\n",
       "Club            object\n",
       "Age              int64\n",
       "Nationality     object\n",
       "Value           object\n",
       "Overall          int64\n",
       "Position        object\n",
       "Height          object\n",
       "Weight          object\n",
       "Stamina        float64\n",
       "Vision         float64\n",
       "Wage            object\n",
       "Potential        int64\n",
       "Reactions      float64\n",
       "Agility        float64\n",
       "Finishing      float64\n",
       "Dribbling      float64\n",
       "BallControl    float64\n",
       "LongPassing    float64\n",
       "dtype: object"
      ]
     },
     "execution_count": 190,
     "metadata": {},
     "output_type": "execute_result"
    }
   ],
   "source": [
    "players.dtypes"
   ]
  },
  {
   "cell_type": "markdown",
   "metadata": {},
   "source": [
    "We kunnen zien dat 'Weight', 'Height' en 'Value' dtypes van object hebben wat inhoud dat ze een string zijn. Dit verwachten we niet omdat we zouden denken dat het numerieke waardes zijn, dit zullen we corrigeren in het onderstaande blok."
   ]
  },
  {
   "cell_type": "code",
   "execution_count": 191,
   "metadata": {
    "scrolled": true
   },
   "outputs": [],
   "source": [
    "# verwijder alle rijen die lege kolommen bevatten.\n",
    "players = players.dropna()\n",
    "\n",
    "# We halen de lbs aan het einde weg en zetten we het om in een float\n",
    "players['Weight'] = players['Weight'].str[:-3].astype(float)\n",
    "\n",
    "# We halen de ' weg en vervangen het met . en vervolgens zetten we het om in een float\n",
    "players['Height'] = players['Height'].str.replace(\"'\", \".\").astype(float)\n",
    "\n",
    "# We halen de € en . weg, vervolgens vervangen we M met 6 nullen en K met 3 nullen en zetten het om in een int\n",
    "players['Value'] = players['Value'].str.replace('€', '').str.replace('.', '')\n",
    "players['Value'] = players['Value'].str.replace('M', '000000')\n",
    "players['Value'] = players['Value'].str.replace('K', '000').astype(int)\n",
    "\n",
    "# We halen de € en . weg, vervolgens vervangen we M met 6 nullen en K met 3 nullen en zetten het om in een int\n",
    "players['Wage'] = players['Wage'].str.replace('€', '').str.replace('.', '')\n",
    "players['Wage'] = players['Wage'].str.replace('M', '000000')\n",
    "players['Wage'] = players['Wage'].str.replace('K', '000').astype(int)\n",
    "\n",
    "# spellingscontrole op alle clubnamen\n",
    "players[\"Club\"] = players[\"Club\"].str.replace(\"1. \", \"\")"
   ]
  },
  {
   "cell_type": "markdown",
   "metadata": {},
   "source": [
    "Laten we even kijken hoe de dataset eruit ziet."
   ]
  },
  {
   "cell_type": "code",
   "execution_count": 192,
   "metadata": {},
   "outputs": [
    {
     "data": {
      "text/html": [
       "<div>\n",
       "<style scoped>\n",
       "    .dataframe tbody tr th:only-of-type {\n",
       "        vertical-align: middle;\n",
       "    }\n",
       "\n",
       "    .dataframe tbody tr th {\n",
       "        vertical-align: top;\n",
       "    }\n",
       "\n",
       "    .dataframe thead th {\n",
       "        text-align: right;\n",
       "    }\n",
       "</style>\n",
       "<table border=\"1\" class=\"dataframe\">\n",
       "  <thead>\n",
       "    <tr style=\"text-align: right;\">\n",
       "      <th></th>\n",
       "      <th>Name</th>\n",
       "      <th>Club</th>\n",
       "      <th>Age</th>\n",
       "      <th>Nationality</th>\n",
       "      <th>Value</th>\n",
       "      <th>Overall</th>\n",
       "      <th>Position</th>\n",
       "      <th>Height</th>\n",
       "      <th>Weight</th>\n",
       "      <th>Stamina</th>\n",
       "      <th>Vision</th>\n",
       "      <th>Wage</th>\n",
       "      <th>Potential</th>\n",
       "      <th>Reactions</th>\n",
       "      <th>Agility</th>\n",
       "      <th>Finishing</th>\n",
       "      <th>Dribbling</th>\n",
       "      <th>BallControl</th>\n",
       "      <th>LongPassing</th>\n",
       "    </tr>\n",
       "  </thead>\n",
       "  <tbody>\n",
       "    <tr>\n",
       "      <th>5377</th>\n",
       "      <td>S. Doi</td>\n",
       "      <td>Kashima Antlers</td>\n",
       "      <td>26</td>\n",
       "      <td>Japan</td>\n",
       "      <td>21000000</td>\n",
       "      <td>70</td>\n",
       "      <td>LS</td>\n",
       "      <td>5.80</td>\n",
       "      <td>139.0</td>\n",
       "      <td>65.0</td>\n",
       "      <td>68.0</td>\n",
       "      <td>8000</td>\n",
       "      <td>71</td>\n",
       "      <td>68.0</td>\n",
       "      <td>76.0</td>\n",
       "      <td>69.0</td>\n",
       "      <td>74.0</td>\n",
       "      <td>70.0</td>\n",
       "      <td>63.0</td>\n",
       "    </tr>\n",
       "    <tr>\n",
       "      <th>15868</th>\n",
       "      <td>Y. Fujita</td>\n",
       "      <td>Júbilo Iwata</td>\n",
       "      <td>35</td>\n",
       "      <td>Japan</td>\n",
       "      <td>30000</td>\n",
       "      <td>58</td>\n",
       "      <td>CB</td>\n",
       "      <td>5.11</td>\n",
       "      <td>168.0</td>\n",
       "      <td>54.0</td>\n",
       "      <td>23.0</td>\n",
       "      <td>1000</td>\n",
       "      <td>58</td>\n",
       "      <td>58.0</td>\n",
       "      <td>51.0</td>\n",
       "      <td>23.0</td>\n",
       "      <td>37.0</td>\n",
       "      <td>32.0</td>\n",
       "      <td>24.0</td>\n",
       "    </tr>\n",
       "    <tr>\n",
       "      <th>15650</th>\n",
       "      <td>D. Conner</td>\n",
       "      <td>Chicago Fire</td>\n",
       "      <td>24</td>\n",
       "      <td>United States</td>\n",
       "      <td>180000</td>\n",
       "      <td>59</td>\n",
       "      <td>RB</td>\n",
       "      <td>5.11</td>\n",
       "      <td>165.0</td>\n",
       "      <td>67.0</td>\n",
       "      <td>51.0</td>\n",
       "      <td>1000</td>\n",
       "      <td>66</td>\n",
       "      <td>54.0</td>\n",
       "      <td>49.0</td>\n",
       "      <td>28.0</td>\n",
       "      <td>45.0</td>\n",
       "      <td>60.0</td>\n",
       "      <td>56.0</td>\n",
       "    </tr>\n",
       "  </tbody>\n",
       "</table>\n",
       "</div>"
      ],
      "text/plain": [
       "            Name             Club  Age    Nationality     Value  Overall  \\\n",
       "5377      S. Doi  Kashima Antlers   26          Japan  21000000       70   \n",
       "15868  Y. Fujita     Júbilo Iwata   35          Japan     30000       58   \n",
       "15650  D. Conner     Chicago Fire   24  United States    180000       59   \n",
       "\n",
       "      Position  Height  Weight  Stamina  Vision  Wage  Potential  Reactions  \\\n",
       "5377        LS    5.80   139.0     65.0    68.0  8000         71       68.0   \n",
       "15868       CB    5.11   168.0     54.0    23.0  1000         58       58.0   \n",
       "15650       RB    5.11   165.0     67.0    51.0  1000         66       54.0   \n",
       "\n",
       "       Agility  Finishing  Dribbling  BallControl  LongPassing  \n",
       "5377      76.0       69.0       74.0         70.0         63.0  \n",
       "15868     51.0       23.0       37.0         32.0         24.0  \n",
       "15650     49.0       28.0       45.0         60.0         56.0  "
      ]
     },
     "execution_count": 192,
     "metadata": {},
     "output_type": "execute_result"
    }
   ],
   "source": [
    "players.sample(3)"
   ]
  },
  {
   "cell_type": "code",
   "execution_count": 193,
   "metadata": {
    "scrolled": true
   },
   "outputs": [
    {
     "data": {
      "text/plain": [
       "Name            object\n",
       "Club            object\n",
       "Age              int64\n",
       "Nationality     object\n",
       "Value            int32\n",
       "Overall          int64\n",
       "Position        object\n",
       "Height         float64\n",
       "Weight         float64\n",
       "Stamina        float64\n",
       "Vision         float64\n",
       "Wage             int32\n",
       "Potential        int64\n",
       "Reactions      float64\n",
       "Agility        float64\n",
       "Finishing      float64\n",
       "Dribbling      float64\n",
       "BallControl    float64\n",
       "LongPassing    float64\n",
       "dtype: object"
      ]
     },
     "execution_count": 193,
     "metadata": {},
     "output_type": "execute_result"
    }
   ],
   "source": [
    "players.dtypes"
   ]
  },
  {
   "cell_type": "markdown",
   "metadata": {},
   "source": [
    "We kunnen zien dat alles nu de juiste dtype heeft."
   ]
  },
  {
   "cell_type": "code",
   "execution_count": 194,
   "metadata": {
    "scrolled": true
   },
   "outputs": [
    {
     "data": {
      "text/plain": [
       "Name           0\n",
       "Club           0\n",
       "Age            0\n",
       "Nationality    0\n",
       "Value          0\n",
       "Overall        0\n",
       "Position       0\n",
       "Height         0\n",
       "Weight         0\n",
       "Stamina        0\n",
       "Vision         0\n",
       "Wage           0\n",
       "Potential      0\n",
       "Reactions      0\n",
       "Agility        0\n",
       "Finishing      0\n",
       "Dribbling      0\n",
       "BallControl    0\n",
       "LongPassing    0\n",
       "dtype: int64"
      ]
     },
     "execution_count": 194,
     "metadata": {},
     "output_type": "execute_result"
    }
   ],
   "source": [
    "pd.isnull(players).sum()"
   ]
  },
  {
   "cell_type": "markdown",
   "metadata": {},
   "source": [
    "We zien dat er geen null waardes meer zijn."
   ]
  },
  {
   "cell_type": "code",
   "execution_count": 195,
   "metadata": {
    "scrolled": true
   },
   "outputs": [
    {
     "data": {
      "text/html": [
       "<div>\n",
       "<style scoped>\n",
       "    .dataframe tbody tr th:only-of-type {\n",
       "        vertical-align: middle;\n",
       "    }\n",
       "\n",
       "    .dataframe tbody tr th {\n",
       "        vertical-align: top;\n",
       "    }\n",
       "\n",
       "    .dataframe thead th {\n",
       "        text-align: right;\n",
       "    }\n",
       "</style>\n",
       "<table border=\"1\" class=\"dataframe\">\n",
       "  <thead>\n",
       "    <tr style=\"text-align: right;\">\n",
       "      <th></th>\n",
       "      <th>Age</th>\n",
       "      <th>Value</th>\n",
       "      <th>Overall</th>\n",
       "      <th>Height</th>\n",
       "      <th>Weight</th>\n",
       "      <th>Stamina</th>\n",
       "      <th>Vision</th>\n",
       "      <th>Wage</th>\n",
       "      <th>Potential</th>\n",
       "      <th>Reactions</th>\n",
       "      <th>Agility</th>\n",
       "      <th>Finishing</th>\n",
       "      <th>Dribbling</th>\n",
       "      <th>BallControl</th>\n",
       "      <th>LongPassing</th>\n",
       "    </tr>\n",
       "  </thead>\n",
       "  <tbody>\n",
       "    <tr>\n",
       "      <th>count</th>\n",
       "      <td>17918.000000</td>\n",
       "      <td>1.791800e+04</td>\n",
       "      <td>17918.000000</td>\n",
       "      <td>17918.000000</td>\n",
       "      <td>17918.000000</td>\n",
       "      <td>17918.000000</td>\n",
       "      <td>17918.000000</td>\n",
       "      <td>17918.000000</td>\n",
       "      <td>17918.000000</td>\n",
       "      <td>17918.000000</td>\n",
       "      <td>17918.000000</td>\n",
       "      <td>17918.000000</td>\n",
       "      <td>17918.000000</td>\n",
       "      <td>17918.000000</td>\n",
       "      <td>17918.000000</td>\n",
       "    </tr>\n",
       "    <tr>\n",
       "      <th>mean</th>\n",
       "      <td>25.105257</td>\n",
       "      <td>1.384871e+07</td>\n",
       "      <td>66.236801</td>\n",
       "      <td>5.796987</td>\n",
       "      <td>165.968858</td>\n",
       "      <td>63.205994</td>\n",
       "      <td>53.448934</td>\n",
       "      <td>9883.748186</td>\n",
       "      <td>71.329334</td>\n",
       "      <td>61.820516</td>\n",
       "      <td>63.523384</td>\n",
       "      <td>45.581147</td>\n",
       "      <td>55.411207</td>\n",
       "      <td>58.411151</td>\n",
       "      <td>52.724300</td>\n",
       "    </tr>\n",
       "    <tr>\n",
       "      <th>std</th>\n",
       "      <td>4.675372</td>\n",
       "      <td>4.015861e+07</td>\n",
       "      <td>6.929243</td>\n",
       "      <td>0.448446</td>\n",
       "      <td>15.604084</td>\n",
       "      <td>15.892897</td>\n",
       "      <td>14.119193</td>\n",
       "      <td>22142.768987</td>\n",
       "      <td>6.144098</td>\n",
       "      <td>9.024412</td>\n",
       "      <td>14.768421</td>\n",
       "      <td>19.512533</td>\n",
       "      <td>18.904436</td>\n",
       "      <td>16.665568</td>\n",
       "      <td>15.311376</td>\n",
       "    </tr>\n",
       "    <tr>\n",
       "      <th>min</th>\n",
       "      <td>16.000000</td>\n",
       "      <td>0.000000e+00</td>\n",
       "      <td>46.000000</td>\n",
       "      <td>5.100000</td>\n",
       "      <td>110.000000</td>\n",
       "      <td>12.000000</td>\n",
       "      <td>10.000000</td>\n",
       "      <td>1000.000000</td>\n",
       "      <td>48.000000</td>\n",
       "      <td>21.000000</td>\n",
       "      <td>14.000000</td>\n",
       "      <td>2.000000</td>\n",
       "      <td>4.000000</td>\n",
       "      <td>5.000000</td>\n",
       "      <td>9.000000</td>\n",
       "    </tr>\n",
       "    <tr>\n",
       "      <th>25%</th>\n",
       "      <td>21.000000</td>\n",
       "      <td>3.250000e+05</td>\n",
       "      <td>62.000000</td>\n",
       "      <td>5.110000</td>\n",
       "      <td>154.000000</td>\n",
       "      <td>56.000000</td>\n",
       "      <td>44.000000</td>\n",
       "      <td>1000.000000</td>\n",
       "      <td>67.000000</td>\n",
       "      <td>56.000000</td>\n",
       "      <td>55.000000</td>\n",
       "      <td>30.000000</td>\n",
       "      <td>49.000000</td>\n",
       "      <td>54.000000</td>\n",
       "      <td>43.000000</td>\n",
       "    </tr>\n",
       "    <tr>\n",
       "      <th>50%</th>\n",
       "      <td>25.000000</td>\n",
       "      <td>7.000000e+05</td>\n",
       "      <td>66.000000</td>\n",
       "      <td>5.900000</td>\n",
       "      <td>165.000000</td>\n",
       "      <td>66.000000</td>\n",
       "      <td>55.000000</td>\n",
       "      <td>3000.000000</td>\n",
       "      <td>71.000000</td>\n",
       "      <td>62.000000</td>\n",
       "      <td>66.000000</td>\n",
       "      <td>49.000000</td>\n",
       "      <td>61.000000</td>\n",
       "      <td>63.000000</td>\n",
       "      <td>56.000000</td>\n",
       "    </tr>\n",
       "    <tr>\n",
       "      <th>75%</th>\n",
       "      <td>28.000000</td>\n",
       "      <td>1.300000e+07</td>\n",
       "      <td>71.000000</td>\n",
       "      <td>6.100000</td>\n",
       "      <td>176.000000</td>\n",
       "      <td>74.000000</td>\n",
       "      <td>64.000000</td>\n",
       "      <td>9000.000000</td>\n",
       "      <td>75.000000</td>\n",
       "      <td>68.000000</td>\n",
       "      <td>74.000000</td>\n",
       "      <td>62.000000</td>\n",
       "      <td>68.000000</td>\n",
       "      <td>69.000000</td>\n",
       "      <td>64.000000</td>\n",
       "    </tr>\n",
       "    <tr>\n",
       "      <th>max</th>\n",
       "      <td>45.000000</td>\n",
       "      <td>1.185000e+09</td>\n",
       "      <td>94.000000</td>\n",
       "      <td>6.900000</td>\n",
       "      <td>243.000000</td>\n",
       "      <td>96.000000</td>\n",
       "      <td>94.000000</td>\n",
       "      <td>565000.000000</td>\n",
       "      <td>95.000000</td>\n",
       "      <td>96.000000</td>\n",
       "      <td>96.000000</td>\n",
       "      <td>95.000000</td>\n",
       "      <td>97.000000</td>\n",
       "      <td>96.000000</td>\n",
       "      <td>93.000000</td>\n",
       "    </tr>\n",
       "  </tbody>\n",
       "</table>\n",
       "</div>"
      ],
      "text/plain": [
       "                Age         Value       Overall        Height        Weight  \\\n",
       "count  17918.000000  1.791800e+04  17918.000000  17918.000000  17918.000000   \n",
       "mean      25.105257  1.384871e+07     66.236801      5.796987    165.968858   \n",
       "std        4.675372  4.015861e+07      6.929243      0.448446     15.604084   \n",
       "min       16.000000  0.000000e+00     46.000000      5.100000    110.000000   \n",
       "25%       21.000000  3.250000e+05     62.000000      5.110000    154.000000   \n",
       "50%       25.000000  7.000000e+05     66.000000      5.900000    165.000000   \n",
       "75%       28.000000  1.300000e+07     71.000000      6.100000    176.000000   \n",
       "max       45.000000  1.185000e+09     94.000000      6.900000    243.000000   \n",
       "\n",
       "            Stamina        Vision           Wage     Potential     Reactions  \\\n",
       "count  17918.000000  17918.000000   17918.000000  17918.000000  17918.000000   \n",
       "mean      63.205994     53.448934    9883.748186     71.329334     61.820516   \n",
       "std       15.892897     14.119193   22142.768987      6.144098      9.024412   \n",
       "min       12.000000     10.000000    1000.000000     48.000000     21.000000   \n",
       "25%       56.000000     44.000000    1000.000000     67.000000     56.000000   \n",
       "50%       66.000000     55.000000    3000.000000     71.000000     62.000000   \n",
       "75%       74.000000     64.000000    9000.000000     75.000000     68.000000   \n",
       "max       96.000000     94.000000  565000.000000     95.000000     96.000000   \n",
       "\n",
       "            Agility     Finishing     Dribbling   BallControl   LongPassing  \n",
       "count  17918.000000  17918.000000  17918.000000  17918.000000  17918.000000  \n",
       "mean      63.523384     45.581147     55.411207     58.411151     52.724300  \n",
       "std       14.768421     19.512533     18.904436     16.665568     15.311376  \n",
       "min       14.000000      2.000000      4.000000      5.000000      9.000000  \n",
       "25%       55.000000     30.000000     49.000000     54.000000     43.000000  \n",
       "50%       66.000000     49.000000     61.000000     63.000000     56.000000  \n",
       "75%       74.000000     62.000000     68.000000     69.000000     64.000000  \n",
       "max       96.000000     95.000000     97.000000     96.000000     93.000000  "
      ]
     },
     "execution_count": 195,
     "metadata": {},
     "output_type": "execute_result"
    }
   ],
   "source": [
    "players.describe()"
   ]
  },
  {
   "cell_type": "markdown",
   "metadata": {},
   "source": [
    "Zoals je in bovenstaande tabellen kan zien zijn alle bewerkingen in goede orde doorgevoerd. Laten we verder gaan met het cleanen van de wedstrijden dataset."
   ]
  },
  {
   "cell_type": "markdown",
   "metadata": {},
   "source": [
    "## Wedstrijden-dataset importeren <a id='Wedstrijden_dataset'></a>"
   ]
  },
  {
   "cell_type": "code",
   "execution_count": 196,
   "metadata": {},
   "outputs": [],
   "source": [
    "# wedstrijden importeren.\n",
    "path = r'wedstrijden'     \n",
    "all_files = glob.glob(os.path.join(path, \"*.csv\"))\n",
    "data_frames = (pd.read_csv(f, encoding='cp1252', sep=';') for f in all_files)\n",
    "clubs = pd.concat(data_frames, ignore_index=True)\n",
    "\n",
    "# wedstrijden per competitie importeren.\n",
    "fields = [\"Date\", \"HomeTeam\", \"AwayTeam\", \"FTHG\", \"FTAG\"]\n",
    "nl = pd.read_csv('csv/nederland.csv',encoding='cp1252', sep=';', usecols=fields)\n",
    "uk = pd.read_csv('csv/engeland.csv',encoding='cp1252', sep=';', usecols=fields)\n",
    "fr = pd.read_csv('csv/frankrijk.csv',encoding='cp1252', sep=';', usecols=fields)\n",
    "be = pd.read_csv('csv/belgie.csv',encoding='cp1252', sep=';', usecols=fields)\n",
    "po = pd.read_csv('csv/polen.csv',encoding='cp1252', sep=';', usecols=fields)\n",
    "clubs = clubs[fields]"
   ]
  },
  {
   "cell_type": "markdown",
   "metadata": {},
   "source": [
    "## Westrijden-dataset prepareer <a id='Westrijden_prepareer'></a>\n",
    "\n",
    "De dataset bevat oneffenheden die wij in deze sectie zullen verhelpen.\n",
    "\n",
    "Verbeterpunten die zijn doorgevoerd op de wedstrijden dataset zijn:\n",
    "\n",
    "1. Irrelevante kolommen filteren.\n",
    "2. Datatype van de datum omzetten naar pandas datetime object.\n",
    "2. Extra kolom toevoegen waarin de eindwinnaar word vermeld.\n",
    "3. Extra kolom toevoegen waarin de gemiddelde Overall waarde word vermeld van de thuis spelende team.\n",
    "4. Extra kolom toevoegen waarin de gemiddelde Overall waarde word vermeld van de uit spelende team."
   ]
  },
  {
   "cell_type": "code",
   "execution_count": 197,
   "metadata": {},
   "outputs": [],
   "source": [
    "# bepalen welke team heeft gewonnen.\n",
    "nl[\"WT\"] = np.where(nl[\"FTHG\"] > nl[\"FTAG\"], 0, 2)\n",
    "nl[\"WT\"] = np.where(nl[\"FTHG\"] == nl[\"FTAG\"], 1, nl[\"WT\"] )"
   ]
  },
  {
   "cell_type": "markdown",
   "metadata": {},
   "source": [
    "*onderstaande celblok heeft veel rekenkracht nodig."
   ]
  },
  {
   "cell_type": "code",
   "execution_count": 198,
   "metadata": {},
   "outputs": [],
   "source": [
    "def functie(competitie, feature, average, homeColumn, awayColumn):\n",
    "    # Players gesorteerd bij clubs\n",
    "    ordered = players.groupby(\"Club\")[feature].apply(list).reset_index()\n",
    "\n",
    "    lijst = []\n",
    "    for i in ordered[feature]:\n",
    "        a = i[:14]\n",
    "        a.sort(reverse = True)\n",
    "        a = round(sum(a)/14,2)\n",
    "        lijst.append(a)\n",
    "    ordered[average] = lijst\n",
    "    ordered = ordered.drop(columns=[feature])\n",
    "\n",
    "    lijst1 = []\n",
    "    for i in range(len(competitie)):\n",
    "        for j in range(len(ordered)):\n",
    "            if competitie[\"HomeTeam\"][i] == ordered[\"Club\"][j]:\n",
    "                lijst1.append(ordered[average][j])\n",
    "    competitie[homeColumn] = lijst1\n",
    "\n",
    "    lijst2 = []\n",
    "    for i in range(len(competitie)):\n",
    "        for j in range(len(ordered)):\n",
    "            if competitie[\"AwayTeam\"][i] == ordered[\"Club\"][j]:\n",
    "                lijst2.append(ordered[average][j])\n",
    "    competitie[awayColumn] = lijst2\n",
    "\n",
    "    competitie[feature] = np.where(competitie[homeColumn] > competitie[awayColumn], 0, 2)\n",
    "    competitie[feature] = np.where(competitie[homeColumn] == competitie[awayColumn], 1, competitie[feature])\n",
    "\n",
    "functie(nl, \"Stamina\", \"avg_Stamina\", \"Stamina_HT\", \"Stamina_AT\")\n",
    "functie(nl, \"Overall\", \"avg_Overall\", \"Overall_HT\", \"Overall_AT\")\n",
    "functie(nl, \"Vision\", \"avg_Vision\", \"Vision_HT\", \"Vision_AT\")"
   ]
  },
  {
   "cell_type": "code",
   "execution_count": 199,
   "metadata": {},
   "outputs": [
    {
     "data": {
      "text/html": [
       "<div>\n",
       "<style scoped>\n",
       "    .dataframe tbody tr th:only-of-type {\n",
       "        vertical-align: middle;\n",
       "    }\n",
       "\n",
       "    .dataframe tbody tr th {\n",
       "        vertical-align: top;\n",
       "    }\n",
       "\n",
       "    .dataframe thead th {\n",
       "        text-align: right;\n",
       "    }\n",
       "</style>\n",
       "<table border=\"1\" class=\"dataframe\">\n",
       "  <thead>\n",
       "    <tr style=\"text-align: right;\">\n",
       "      <th></th>\n",
       "      <th>Date</th>\n",
       "      <th>HomeTeam</th>\n",
       "      <th>AwayTeam</th>\n",
       "      <th>FTHG</th>\n",
       "      <th>FTAG</th>\n",
       "      <th>WT</th>\n",
       "      <th>Stamina_HT</th>\n",
       "      <th>Stamina_AT</th>\n",
       "      <th>Stamina</th>\n",
       "      <th>Overall_HT</th>\n",
       "      <th>Overall_AT</th>\n",
       "      <th>Overall</th>\n",
       "      <th>Vision_HT</th>\n",
       "      <th>Vision_AT</th>\n",
       "      <th>Vision</th>\n",
       "    </tr>\n",
       "  </thead>\n",
       "  <tbody>\n",
       "    <tr>\n",
       "      <th>19</th>\n",
       "      <td>25.08.2018</td>\n",
       "      <td>Ajax</td>\n",
       "      <td>FC Emmen</td>\n",
       "      <td>5</td>\n",
       "      <td>0</td>\n",
       "      <td>0</td>\n",
       "      <td>72.07</td>\n",
       "      <td>64.79</td>\n",
       "      <td>0</td>\n",
       "      <td>78.93</td>\n",
       "      <td>65.79</td>\n",
       "      <td>0</td>\n",
       "      <td>73.93</td>\n",
       "      <td>55.29</td>\n",
       "      <td>0</td>\n",
       "    </tr>\n",
       "    <tr>\n",
       "      <th>93</th>\n",
       "      <td>3.11.2018</td>\n",
       "      <td>NAC Breda</td>\n",
       "      <td>Heracles Almelo</td>\n",
       "      <td>2</td>\n",
       "      <td>1</td>\n",
       "      <td>0</td>\n",
       "      <td>64.64</td>\n",
       "      <td>67.00</td>\n",
       "      <td>2</td>\n",
       "      <td>67.64</td>\n",
       "      <td>68.57</td>\n",
       "      <td>2</td>\n",
       "      <td>57.57</td>\n",
       "      <td>60.93</td>\n",
       "      <td>2</td>\n",
       "    </tr>\n",
       "    <tr>\n",
       "      <th>210</th>\n",
       "      <td>2.03.2019</td>\n",
       "      <td>Vitesse</td>\n",
       "      <td>NAC Breda</td>\n",
       "      <td>4</td>\n",
       "      <td>1</td>\n",
       "      <td>0</td>\n",
       "      <td>67.71</td>\n",
       "      <td>64.64</td>\n",
       "      <td>0</td>\n",
       "      <td>72.57</td>\n",
       "      <td>67.64</td>\n",
       "      <td>0</td>\n",
       "      <td>64.86</td>\n",
       "      <td>57.57</td>\n",
       "      <td>0</td>\n",
       "    </tr>\n",
       "  </tbody>\n",
       "</table>\n",
       "</div>"
      ],
      "text/plain": [
       "           Date   HomeTeam         AwayTeam  FTHG  FTAG  WT  Stamina_HT  \\\n",
       "19   25.08.2018       Ajax         FC Emmen     5     0   0       72.07   \n",
       "93    3.11.2018  NAC Breda  Heracles Almelo     2     1   0       64.64   \n",
       "210   2.03.2019    Vitesse        NAC Breda     4     1   0       67.71   \n",
       "\n",
       "     Stamina_AT  Stamina  Overall_HT  Overall_AT  Overall  Vision_HT  \\\n",
       "19        64.79        0       78.93       65.79        0      73.93   \n",
       "93        67.00        2       67.64       68.57        2      57.57   \n",
       "210       64.64        0       72.57       67.64        0      64.86   \n",
       "\n",
       "     Vision_AT  Vision  \n",
       "19       55.29       0  \n",
       "93       60.93       2  \n",
       "210      57.57       0  "
      ]
     },
     "execution_count": 199,
     "metadata": {},
     "output_type": "execute_result"
    }
   ],
   "source": [
    "nl.sample(3)"
   ]
  },
  {
   "cell_type": "code",
   "execution_count": 200,
   "metadata": {},
   "outputs": [
    {
     "data": {
      "text/plain": [
       "Date           object\n",
       "HomeTeam       object\n",
       "AwayTeam       object\n",
       "FTHG            int64\n",
       "FTAG            int64\n",
       "WT              int32\n",
       "Stamina_HT    float64\n",
       "Stamina_AT    float64\n",
       "Stamina         int32\n",
       "Overall_HT    float64\n",
       "Overall_AT    float64\n",
       "Overall         int32\n",
       "Vision_HT     float64\n",
       "Vision_AT     float64\n",
       "Vision          int32\n",
       "dtype: object"
      ]
     },
     "execution_count": 200,
     "metadata": {},
     "output_type": "execute_result"
    }
   ],
   "source": [
    "nl.dtypes"
   ]
  },
  {
   "cell_type": "code",
   "execution_count": 201,
   "metadata": {},
   "outputs": [
    {
     "data": {
      "text/plain": [
       "Date          0\n",
       "HomeTeam      0\n",
       "AwayTeam      0\n",
       "FTHG          0\n",
       "FTAG          0\n",
       "WT            0\n",
       "Stamina_HT    0\n",
       "Stamina_AT    0\n",
       "Stamina       0\n",
       "Overall_HT    0\n",
       "Overall_AT    0\n",
       "Overall       0\n",
       "Vision_HT     0\n",
       "Vision_AT     0\n",
       "Vision        0\n",
       "dtype: int64"
      ]
     },
     "execution_count": 201,
     "metadata": {},
     "output_type": "execute_result"
    }
   ],
   "source": [
    "pd.isnull(nl).sum()"
   ]
  },
  {
   "cell_type": "markdown",
   "metadata": {},
   "source": [
    "Alle gegevens zijn nu in orde. Om in een oogopslag een duidelijk overzicht te krijgen van alle informatie, volgen hierna een aantal statistieken;"
   ]
  },
  {
   "cell_type": "markdown",
   "metadata": {},
   "source": [
    "## Histograms <a id='Histograms'></a>"
   ]
  },
  {
   "cell_type": "code",
   "execution_count": 202,
   "metadata": {},
   "outputs": [
    {
     "data": {
      "text/plain": [
       "[Text(0, 0.5, 'frequentie'),\n",
       " Text(0.5, 0, 'Overall'),\n",
       " Text(0.5, 1.0, 'Overall x frequentie')]"
      ]
     },
     "execution_count": 202,
     "metadata": {},
     "output_type": "execute_result"
    },
    {
     "data": {
      "image/png": "[encoded data removed]",
      "text/plain": [
       "<Figure size 432x288 with 1 Axes>"
      ]
     },
     "metadata": {
      "needs_background": "light"
     },
     "output_type": "display_data"
    }
   ],
   "source": [
    "# histogram van de gemiddelde van de spelers.\n",
    "sns.distplot(players['Overall'], kde=False, rug=True).set(title='Overall x frequentie', xlabel='Overall', ylabel='frequentie')"
   ]
  },
  {
   "cell_type": "markdown",
   "metadata": {},
   "source": [
    "We zien hier dat er een missende 'slice' is bij 69, dit komt doordat de binsize niet juist is geconfigureerd."
   ]
  },
  {
   "cell_type": "code",
   "execution_count": 203,
   "metadata": {},
   "outputs": [
    {
     "data": {
      "text/plain": [
       "[Text(0, 0.5, 'frequentie'),\n",
       " Text(0.5, 0, 'Overall'),\n",
       " Text(0.5, 1.0, 'Overall x frequentie')]"
      ]
     },
     "execution_count": 203,
     "metadata": {},
     "output_type": "execute_result"
    },
    {
     "data": {
      "image/png": "[encoded data removed]",
      "text/plain": [
       "<Figure size 432x288 with 1 Axes>"
      ]
     },
     "metadata": {
      "needs_background": "light"
     },
     "output_type": "display_data"
    }
   ],
   "source": [
    "bin_amount = len(players['Overall'].unique())\n",
    "sns.distplot(players['Overall'], kde=False, rug=True, bins=bin_amount).set(\n",
    "    title='Overall x frequentie', xlabel='Overall', ylabel='frequentie')"
   ]
  },
  {
   "cell_type": "markdown",
   "metadata": {},
   "source": [
    "Met de juiste binsize zien we dat de uitkomst is wat we zouden verwachten."
   ]
  },
  {
   "cell_type": "code",
   "execution_count": 204,
   "metadata": {},
   "outputs": [
    {
     "data": {
      "text/plain": [
       "<matplotlib.axes._subplots.AxesSubplot at 0x1a2f218e310>"
      ]
     },
     "execution_count": 204,
     "metadata": {},
     "output_type": "execute_result"
    },
    {
     "data": {
      "image/png": "[encoded data removed]",
      "text/plain": [
       "<Figure size 432x288 with 1 Axes>"
      ]
     },
     "metadata": {
      "needs_background": "light"
     },
     "output_type": "display_data"
    }
   ],
   "source": [
    "# histogram van de leeftijd van de spelers\n",
    "players['Age'].plot.hist()"
   ]
  },
  {
   "cell_type": "markdown",
   "metadata": {},
   "source": [
    "We zien dat de gemiddelde leeftijd op vrij jong zit namelijk rond de 25."
   ]
  },
  {
   "cell_type": "code",
   "execution_count": 205,
   "metadata": {
    "scrolled": false
   },
   "outputs": [
    {
     "data": {
      "application/vnd.jupyter.widget-view+json": {
       "model_id": "90b39b4b437148cfa8554aef6477bfcb",
       "version_major": 2,
       "version_minor": 0
      },
      "text/plain": [
       "interactive(children=(Dropdown(description='Player 1:', options=('L. Messi', 'Cristiano Ronaldo', 'Neymar Jr',…"
      ]
     },
     "metadata": {},
     "output_type": "display_data"
    }
   ],
   "source": [
    "# Alleen relevante data selecteren en de beste en slechtste speler\n",
    "player_skills = ['Name', 'Agility', 'BallControl', 'Dribbling', 'Finishing','Stamina']\n",
    "\n",
    "# Alle spelers met de releveante data ophalen\n",
    "all_players = players[player_skills]\n",
    "all_players = all_players.set_index('Name')\n",
    "\n",
    "# Een lijst met namen van de 5 beste en 5 slechtse spelers\n",
    "best_players = list(all_players.head().index.values)\n",
    "worst_players = list(all_players.tail().index.values)\n",
    "\n",
    "# 2 Dropdown list widgets om een speler te kunnen selecteren\n",
    "player1_widget = widgets.Dropdown(options = best_players, value = all_names[0], description='Player 1:')\n",
    "player2_widget = widgets.Dropdown(options = worst_players, value = all_names[-1], description='Player 2:')\n",
    "\n",
    "# Functie om gegeven 2 namen de spelers in een spiderplot te kunnen zetten\n",
    "def spiderplot_players(p1, p2):\n",
    "    # Groote van de plot bepalen\n",
    "    plt.figure(figsize=(20, 20))\n",
    "    \n",
    "    # De kollomen van de spelers ophalen\n",
    "    comparison_players = all_players.loc[[p1, p2]] \n",
    "\n",
    "    for name, skills in comparison_players.iterrows():\n",
    "        categories = skills.index.values\n",
    "\n",
    "        # Alle punten om te tekenen\n",
    "        points = list(skills.values)\n",
    "        points += points[:1]\n",
    "\n",
    "        # Alle hoeken berekenen\n",
    "        angles = [side / float(len(categories)) * 2 * np.pi for side in range(len(categories))]\n",
    "        angles += angles[:1]\n",
    "\n",
    "        # De spider plot aanmaken\n",
    "        sp = plt.subplot(3, 3, 1, polar=True)\n",
    "\n",
    "        # De categorieen weergeven\n",
    "        plt.xticks(angles, categories)\n",
    "\n",
    "        # De markers weergeven\n",
    "        plt.yticks([25, 50, 75], [\"25\", \"50\", \"75\"], color=\"grey\")\n",
    "        plt.ylim(0,100)\n",
    "\n",
    "        # Alles plotten en opvullen\n",
    "        sp.plot(angles, points)\n",
    "        sp.fill(angles, points, alpha=0.1)\n",
    "\n",
    "    # De titel plotten\n",
    "    names = comparison_players.index.values\n",
    "    plt.title(f'{names[0]} vs {names[1]}', y=1.1)\n",
    "    \n",
    "interactive(spiderplot_players, p1=player1_widget, p2=player2_widget)"
   ]
  },
  {
   "cell_type": "markdown",
   "metadata": {},
   "source": [
    "<p>Wij hebben inspiratie getrokken van fifa de game, hier word een soortgelijke manier gehanteerd (zie onderstaande foto). Op deze manier zijn de spelers makkelijk te vergelijken.</p>\n",
    "<img src=\"fifa_skill.png\" alt=\"Drawing\" style=\"width: 400px; float: left;\"/>"
   ]
  },
  {
   "cell_type": "markdown",
   "metadata": {},
   "source": [
    "## Onderzoeksvraag 1 <a id='Onderzoeksvraag_1'></a>\n",
    "__In hoeverre is de prijs van een speler te voorspellen aan de hand van zijn belangrijkste kenmerken?__\n",
    "\n",
    "Wij zullen bij deze vraag linear regression gebruiken om te kijken in hoeverre een punt bij de lijn zit, dit laat ons weten of er daadwerkelijk een linear verband is tussen de prijs van een speler en zijn belangrijkste kenmerken."
   ]
  },
  {
   "cell_type": "code",
   "execution_count": 206,
   "metadata": {},
   "outputs": [
    {
     "name": "stdout",
     "output_type": "stream",
     "text": [
      "1.0%\n"
     ]
    }
   ],
   "source": [
    "value_players = players[['Agility', 'Value']].dropna()\n",
    "percentage_nan = (len(value_players) / len(players[['Agility', 'Value']]))\n",
    "players = players.dropna()\n",
    "print(f'{percentage_nan}%')"
   ]
  },
  {
   "cell_type": "markdown",
   "metadata": {},
   "source": [
    "We zien dat er maar 1% missende waardes zijn dus we halen die eruit omdat we genoeg andere data hebben, dus dit zal geen impact maken voor ons."
   ]
  },
  {
   "cell_type": "code",
   "execution_count": 207,
   "metadata": {},
   "outputs": [
    {
     "data": {
      "image/png": "[encoded data removed]",
      "text/plain": [
       "<Figure size 432x288 with 1 Axes>"
      ]
     },
     "metadata": {
      "needs_background": "light"
     },
     "output_type": "display_data"
    },
    {
     "name": "stdout",
     "output_type": "stream",
     "text": [
      "0.026448685152405615\n",
      "39622876.72274868\n"
     ]
    }
   ],
   "source": [
    "# x en y vectors\n",
    "x = players[['Agility']]\n",
    "y = players[['Value']]\n",
    "\n",
    "# pass linear regression toe op de gehele dataset\n",
    "lin_reg = LinearRegression()\n",
    "lin_reg.fit(x, y)\n",
    "y_pred = lin_reg.predict(x)\n",
    "\n",
    "# weergeef de linear regression\n",
    "plt.scatter(x, y, color='red', s=4)\n",
    "plt.plot(x, y_pred, color='green')\n",
    "plt.show()\n",
    "\n",
    "# Weergeef de score en de gemiddelde fout\n",
    "print(lin_reg.score(x, y))\n",
    "print(np.sqrt(mean_squared_error(y_pred, y)))"
   ]
  },
  {
   "cell_type": "markdown",
   "metadata": {},
   "source": [
    "We zien een vrij lage score, we willen die het liefst zo dicht bij 1 hebben. Dit komt omdat 'Agility' vrij weinig correlatie heeft met 'Value', dit zullen we hieronder zometeen zien. Daarnaast is de RMSE heel slecht, dit kunnen we ook terug vinden in de grafiek want hoewel de lijn door de meerderheid van de punten gaat zijn er enorm veel uitschieters."
   ]
  },
  {
   "cell_type": "code",
   "execution_count": 208,
   "metadata": {
    "scrolled": true
   },
   "outputs": [
    {
     "name": "stdout",
     "output_type": "stream",
     "text": [
      "Age            0.060564\n",
      "Value          1.000000\n",
      "Overall        0.502906\n",
      "Height         0.009048\n",
      "Weight         0.033540\n",
      "Stamina        0.176895\n",
      "Vision         0.293070\n",
      "Wage           0.622766\n",
      "Potential      0.460218\n",
      "Reactions      0.434576\n",
      "Agility        0.162631\n",
      "Finishing      0.210831\n",
      "Dribbling      0.229108\n",
      "BallControl    0.259097\n",
      "LongPassing    0.254171\n",
      "dtype: float64\n"
     ]
    }
   ],
   "source": [
    "print(players.corrwith(players[\"Value\"]))"
   ]
  },
  {
   "cell_type": "markdown",
   "metadata": {},
   "source": [
    "We zien dat 'Overall', 'Potential', 'Reactions' en 'Wage' de beste correlaties hebben met 'Value'.\n",
    "Voor 'Wage' is dit vanzelfsprekend, iemand die een hoge 'Value' heeft zal ook veel verdienen.\n",
    "'Overall' is eigenlijk een samenvatting van zijn complete skills dus dat is ook niet al te gek dat het veel met de waarde van de speler correleert.\n",
    "Ten slot 'Potential', dit is ook vrij logisch als teamzijnde zou je liever een speler willen kopen die potentie heeft om door te groeien en niet 1 die niet bij de tempo van de rest kan blijven."
   ]
  },
  {
   "cell_type": "code",
   "execution_count": 209,
   "metadata": {
    "scrolled": true
   },
   "outputs": [
    {
     "name": "stdout",
     "output_type": "stream",
     "text": [
      "              Value   Overall  Potential  Reactions\n",
      "Value      1.000000  0.502906   0.460218   0.434576\n",
      "Overall    0.502906  1.000000   0.660850   0.851144\n",
      "Potential  0.460218  0.660850   1.000000   0.513877\n",
      "Reactions  0.434576  0.851144   0.513877   1.000000\n"
     ]
    }
   ],
   "source": [
    "X = players[['Overall', 'Potential', 'Reactions']]\n",
    "y = players[['Value']]\n",
    "\n",
    "print(players[['Value', 'Overall', 'Potential', 'Reactions']].corr())"
   ]
  },
  {
   "cell_type": "markdown",
   "metadata": {},
   "source": [
    "De variabelen zijn gemaakt en de correlaties nogmaals weergeven."
   ]
  },
  {
   "cell_type": "code",
   "execution_count": 210,
   "metadata": {},
   "outputs": [
    {
     "name": "stdout",
     "output_type": "stream",
     "text": [
      "0.29625115098205046\n",
      "31737952.247372538\n"
     ]
    }
   ],
   "source": [
    "X_train, X_test, y_train, y_test = train_test_split(X, y, random_state=0)\n",
    "\n",
    "lin_reg = LinearRegression()\n",
    "lin_reg.fit(X_train, y_train)\n",
    "y_pred = lin_reg.predict(X_test)\n",
    "\n",
    "print(lin_reg.score(X_test, y_test))\n",
    "print(np.sqrt(mean_squared_error(y_pred, y_test)))"
   ]
  },
  {
   "cell_type": "markdown",
   "metadata": {},
   "source": [
    "We zien een enorme verbetering, hoewel de RSME nog steeds groot is zien we wel de score verbeteren. We kunnen hieruit de conclusie trekken op de vraag: \"In hoeverre is de prijs van een speler te voorspellen aan de hand van zijn belangrijkste kenmerken?\" \n",
    "\n",
    "In kleine mate is de prijs van een speler te voorspellen aan zijn kenmerken, de gok marge is erg groot en dit is ook vrij logisch omdat je spelers hebt die maar een paar honderd maken en andere die miljoenen maken terwijl relatief gezien niet zo veel verschillen met elkaar in opzichte van skills.\n",
    "\n",
    "Conclusie: de voetbalwereld is niet altijd even eerlijk, je verdiend niet altijd hoeveel je zou moeten verdien ten opzichten van je vaardigheden."
   ]
  },
  {
   "cell_type": "code",
   "execution_count": 211,
   "metadata": {},
   "outputs": [
    {
     "name": "stdout",
     "output_type": "stream",
     "text": [
      "              Value   Overall  Potential  Reactions      Wage\n",
      "Value      1.000000  0.502906   0.460218   0.434576  0.622766\n",
      "Overall    0.502906  1.000000   0.660850   0.851144  0.575940\n",
      "Potential  0.460218  0.660850   1.000000   0.513877  0.488999\n",
      "Reactions  0.434576  0.851144   0.513877   1.000000  0.499564\n",
      "Wage       0.622766  0.575940   0.488999   0.499564  1.000000\n"
     ]
    }
   ],
   "source": [
    "X = players[['Overall', 'Potential', 'Reactions', 'Wage']]\n",
    "print(players[['Value', 'Overall', 'Potential', 'Reactions', 'Wage']].corr())"
   ]
  },
  {
   "cell_type": "code",
   "execution_count": 212,
   "metadata": {},
   "outputs": [
    {
     "name": "stdout",
     "output_type": "stream",
     "text": [
      "0.4469437804532099\n",
      "29379883.910563037\n"
     ]
    }
   ],
   "source": [
    "X_train, X_test, y_train, y_test = train_test_split(X, y, random_state=1)\n",
    "\n",
    "lin_reg = LinearRegression()\n",
    "lin_reg.fit(X_train, y_train)\n",
    "y_pred = lin_reg.predict(X_test)\n",
    "\n",
    "print(lin_reg.score(X_test, y_test))\n",
    "print(np.sqrt(mean_squared_error(y_pred, y_test)))"
   ]
  },
  {
   "cell_type": "markdown",
   "metadata": {},
   "source": [
    "Hier nogmaals hetzelfde alleen met 'Wage' toegevoegd wat voor een veel beter resultaat zorgt zoals we zouden verwachten. Dit zie ik wel als valsspelen dus heb ik dit als een extra gelaten."
   ]
  },
  {
   "cell_type": "markdown",
   "metadata": {},
   "source": [
    "## Onderzoeksvraag 2 <a id='Onderzoeksvraag_2'></a>\n",
    "\n",
    "__Kan je op basis van de gemiddelde waardes van een team voorspellen welke van de twee teams zullen winnen?__"
   ]
  },
  {
   "cell_type": "code",
   "execution_count": 213,
   "metadata": {},
   "outputs": [
    {
     "name": "stdout",
     "output_type": "stream",
     "text": [
      "229 elementen in de trainset en 77 elementen in de testset\n"
     ]
    }
   ],
   "source": [
    "model = DecisionTreeClassifier()\n",
    "\n",
    "# bepaal features & target variabele\n",
    "feat_names = ['Overall','Stamina', 'Vision']\n",
    "feats = np.array(nl[feat_names])\n",
    "cat = nl['WT']\n",
    "\n",
    "feats_train, feats_test, cat_train, cat_test = train_test_split(feats, cat, random_state=10)\n",
    "print(\"{} elementen in de trainset en {} elementen in de testset\".format(len(cat_train), len(feats_test)))"
   ]
  },
  {
   "cell_type": "code",
   "execution_count": 214,
   "metadata": {},
   "outputs": [
    {
     "data": {
      "text/plain": [
       "0.6363636363636364"
      ]
     },
     "execution_count": 214,
     "metadata": {},
     "output_type": "execute_result"
    }
   ],
   "source": [
    "model.fit(feats_train, cat_train)\n",
    "# M.b.v. de score wordt de accuracy berekend: het percentage voorspellingen dat correct\n",
    "model.score(feats_test, cat_test)"
   ]
  },
  {
   "cell_type": "code",
   "execution_count": 215,
   "metadata": {},
   "outputs": [
    {
     "data": {
      "text/plain": [
       "0.6363636363636364"
      ]
     },
     "execution_count": 215,
     "metadata": {},
     "output_type": "execute_result"
    }
   ],
   "source": [
    "# Alternatieve manier om de voorspellende waarde te berekenen is door het model de klasse te voorspellen voor\n",
    "# de testset van de features en deze te vergelijken met de testset van de klassen.\n",
    "cat_model = model.predict(feats_test)\n",
    "accuracy_score(cat_test, cat_model)"
   ]
  },
  {
   "cell_type": "code",
   "execution_count": 216,
   "metadata": {},
   "outputs": [
    {
     "data": {
      "image/png": "[encoded data removed]",
      "text/plain": [
       "<Figure size 600x500 with 2 Axes>"
      ]
     },
     "metadata": {
      "needs_background": "light"
     },
     "output_type": "display_data"
    }
   ],
   "source": [
    "# Het is ook interessant om te kijken welke voorspellingen goed gaan en welke niet gaan. \n",
    "# Je ziet dat vooral de NY-huizen niet goed voorspeld worden. Dus het is zaak om onderscheidende features toe te voegen.\n",
    "cm = confusion_matrix(cat_test, cat_model)\n",
    "\n",
    "# Maak van de array een pandas dataframe om te visualiseren\n",
    "df_cm = pd.DataFrame(cm)\n",
    "\n",
    "fig, ax = plt.subplots(figsize=(6, 5), dpi=100)\n",
    "\n",
    "ax = sns.heatmap(df_cm, annot=True, cmap='OrRd', fmt='d')\n",
    "bottom, top = ax.get_ylim()\n",
    "ax.set_ylim(bottom + 0.5, top - 0.5)\n",
    "\n",
    "ax.set_xlabel('voorspelde waarde')\n",
    "ax.set_ylabel('echte waarde')\n",
    "\n",
    "plt.show()"
   ]
  },
  {
   "cell_type": "markdown",
   "metadata": {},
   "source": [
    "## Onderzoeksvraag 3 <a id='Onderzoeksvraag_3'></a>\n",
    "\n",
    "__Kunnen we door groepen te maken van verschillende eigenschappen van spelers bepalen in welke groep een speler hoort?__\n",
    "\n",
    "unsupervised Hierbij zullen wij clustering gaan gebruiken om mogelijke patronen te ontdekken. \n",
    "Om die clusteringen te visualiseren gaan we Kmeans gebruiken.\n",
    "\n",
    "Om makkelijk modelen te maken maken we functies om dit te doen."
   ]
  },
  {
   "cell_type": "markdown",
   "metadata": {},
   "source": [
    "### func voor 3d model"
   ]
  },
  {
   "cell_type": "code",
   "execution_count": 217,
   "metadata": {},
   "outputs": [],
   "source": [
    "# 3d model func\n",
    "def plot_kMeans3d(data, number_clusters, Xas, Yas, Zas):\n",
    "    #get data.\n",
    "    data3 = players[[Xas, Yas, Zas]].sample(n = 200) # we nemen een deel van de dataset om het model overzichtelijk te houden.\n",
    "    \n",
    "    #Make kMeans model.\n",
    "    model_kMeans = KMeans()\n",
    "    \n",
    "    #chose data.\n",
    "    kMeans = data3\n",
    "    \n",
    "    #set number of clusters.\n",
    "    model_kMeans.set_params(n_clusters = number_clusters, random_state = 0)\n",
    "    \n",
    "    #fit.\n",
    "    model_kMeans.fit(kMeans)\n",
    "    \n",
    "    #show data.\n",
    "    prediction_kMeans = model_kMeans.fit_predict(kMeans)\n",
    "    \n",
    "    #make 3d plot.\n",
    "    fig = plt.figure(figsize=(16,10))\n",
    "    ax = fig.add_subplot(111, projection='3d')\n",
    "    \n",
    "    ax.scatter(kMeans[Xas], kMeans[Yas], kMeans[Zas], s=32, cmap='prism', depthshade=False, marker='o', c=prediction_kMeans)\n",
    "    ax.set_xlabel(Xas)\n",
    "    ax.set_ylabel(Yas)\n",
    "    ax.set_zlabel(Zas)\n",
    "\n",
    "    return plt\n",
    "    "
   ]
  },
  {
   "cell_type": "markdown",
   "metadata": {},
   "source": [
    "### func voor 2d model"
   ]
  },
  {
   "cell_type": "code",
   "execution_count": 218,
   "metadata": {},
   "outputs": [],
   "source": [
    "# 2d model func\n",
    "def plot_kMeans2d(data, number_clusters, Xas, Yas):\n",
    "    #get data.\n",
    "    data3 = players[[Xas, Yas]].sample(n = 500)# we nemen een deel van de dataset om het model overzichtelijk te houden.\n",
    "    \n",
    "    #Make kMeans model.\n",
    "    model_kMeans = KMeans()\n",
    "    \n",
    "    #chose data.\n",
    "    kMeans = data3\n",
    "    \n",
    "    #set number of clusters.\n",
    "    model_kMeans.set_params(n_clusters = number_clusters, random_state = 0)\n",
    "    \n",
    "    #fit.\n",
    "    model_kMeans.fit(kMeans)\n",
    "    \n",
    "    #show data.\n",
    "    prediction_kMeans = model_kMeans.fit_predict(kMeans)\n",
    "    \n",
    "    #make 2d plot.\n",
    "    plt.scatter(kMeans[Xas],kMeans[Yas],marker='o', c=prediction_kMeans)\n",
    "    plt.scatter(model_kMeans.cluster_centers_[:,0],model_kMeans.cluster_centers_[:,1],marker='x', s=40)\n",
    "    plt.gcf().set_size_inches((10, 10))  \n",
    "    \n",
    "    return plt\n"
   ]
  },
  {
   "cell_type": "markdown",
   "metadata": {},
   "source": [
    "### func voor voronoi diagram"
   ]
  },
  {
   "cell_type": "code",
   "execution_count": 219,
   "metadata": {},
   "outputs": [],
   "source": [
    "def plot_voronoi_diagram(data, number_clusters, Xas, Yas):\n",
    "    #get data.\n",
    "    data3 = players[[Xas, Yas]].sample(n = 500)# we nemen een deel van de dataset om het model overzichtelijk te houden.\n",
    "    \n",
    "    #Make kMeans model.\n",
    "    model_kMeans = KMeans()\n",
    "    \n",
    "    #chose data.\n",
    "    kMeans = data3\n",
    "    \n",
    "    #set number of clusters.\n",
    "    model_kMeans.set_params(n_clusters = number_clusters, random_state = 0)\n",
    "    \n",
    "    #fit.\n",
    "    model_kMeans.fit(kMeans)\n",
    "    \n",
    "    #show data.\n",
    "    prediction_kMeans = model_kMeans.fit_predict(kMeans)\n",
    "    \n",
    "    # Voronoi diagram plotten i.c.m. scatter plot\n",
    "    vor = Voronoi(model_kMeans.cluster_centers_)\n",
    "    fig = voronoi_plot_2d(vor)\n",
    "    plt.gcf().set_size_inches((10, 10))\n",
    "\n",
    "    ax = fig.add_subplot()\n",
    "    ax.axis('equal')\n",
    "    ax.scatter(kMeans[Xas], kMeans[Yas], c=prediction_kMeans, s=50, cmap='viridis', zorder=1)\n",
    "    \n",
    "    # set x y limit\n",
    "    ax.set_xlim([0,100])\n",
    "    ax.set_ylim([0,100])\n",
    "\n",
    "    return plt"
   ]
  },
  {
   "cell_type": "markdown",
   "metadata": {},
   "source": [
    "### 3d model van Height, Value, Weight."
   ]
  },
  {
   "cell_type": "code",
   "execution_count": 220,
   "metadata": {},
   "outputs": [
    {
     "data": {
      "text/plain": [
       "<function matplotlib.pyplot.show(*args, **kw)>"
      ]
     },
     "execution_count": 220,
     "metadata": {},
     "output_type": "execute_result"
    },
    {
     "data": {
      "image/png": "[encoded data removed]",
      "text/plain": [
       "<Figure size 1152x720 with 1 Axes>"
      ]
     },
     "metadata": {
      "needs_background": "light"
     },
     "output_type": "display_data"
    }
   ],
   "source": [
    "# 3d model of Height, Value, Weight. \n",
    "plot_kMeans3d(players, 3, 'LongPassing', 'BallControl', 'Agility').show"
   ]
  },
  {
   "cell_type": "markdown",
   "metadata": {},
   "source": [
    "### 2d model van Height and Weight."
   ]
  },
  {
   "cell_type": "code",
   "execution_count": 221,
   "metadata": {},
   "outputs": [
    {
     "data": {
      "text/plain": [
       "<function matplotlib.pyplot.show(*args, **kw)>"
      ]
     },
     "execution_count": 221,
     "metadata": {},
     "output_type": "execute_result"
    },
    {
     "data": {
      "image/png": "[encoded data removed]",
      "text/plain": [
       "<Figure size 720x720 with 1 Axes>"
      ]
     },
     "metadata": {
      "needs_background": "light"
     },
     "output_type": "display_data"
    }
   ],
   "source": [
    "# 2d model of Height and Weight.\n",
    "plot_kMeans2d(players, 3, 'Height', 'Weight').show"
   ]
  },
  {
   "cell_type": "markdown",
   "metadata": {},
   "source": [
    "### d2 model van Agility and BallControl."
   ]
  },
  {
   "cell_type": "code",
   "execution_count": 222,
   "metadata": {},
   "outputs": [
    {
     "data": {
      "text/plain": [
       "<function matplotlib.pyplot.show(*args, **kw)>"
      ]
     },
     "execution_count": 222,
     "metadata": {},
     "output_type": "execute_result"
    },
    {
     "data": {
      "image/png": "[encoded data removed]",
      "text/plain": [
       "<Figure size 720x720 with 1 Axes>"
      ]
     },
     "metadata": {
      "needs_background": "light"
     },
     "output_type": "display_data"
    }
   ],
   "source": [
    "# d2 model of Agility and BallControl.\n",
    "plot_voronoi_diagram(players, 4, 'Dribbling', 'BallControl').show"
   ]
  },
  {
   "cell_type": "markdown",
   "metadata": {},
   "source": [
    "## Onderzoeksvraag 4 <a id='Onderzoeksvraag_4'></a>\n",
    "\n",
    "_Verschilt de potentie van de huidige generatie Engelse spelers sterk van spelers uit de rest van de wereld?_"
   ]
  },
  {
   "cell_type": "code",
   "execution_count": 223,
   "metadata": {},
   "outputs": [
    {
     "name": "stdout",
     "output_type": "stream",
     "text": [
      "71.45975032285837 70.04948702474351 1.9735071725596898\n"
     ]
    }
   ],
   "source": [
    "english_potential = players[players['Nationality'].isin(['England'])]['Potential'].mean()\n",
    "overall_potential = players[~players['Nationality'].isin(['England'])]['Potential'].mean()\n",
    "percentage_change = ((overall_potential - english_potential) / overall_potential) * 100\n",
    "print(overall_potential, english_potential, percentage_change)"
   ]
  },
  {
   "cell_type": "code",
   "execution_count": null,
   "metadata": {},
   "outputs": [],
   "source": []
  }
 ],
 "metadata": {
  "kernelspec": {
   "display_name": "Python 3",
   "language": "python",
   "name": "python3"
  },
  "language_info": {
   "codemirror_mode": {
    "name": "ipython",
    "version": 3
   },
   "file_extension": ".py",
   "mimetype": "text/x-python",
   "name": "python",
   "nbconvert_exporter": "python",
   "pygments_lexer": "ipython3",
   "version": "3.8.3"
  }
 },
 "nbformat": 4,
 "nbformat_minor": 1
}
