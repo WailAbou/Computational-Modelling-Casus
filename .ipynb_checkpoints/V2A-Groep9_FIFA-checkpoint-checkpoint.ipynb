{
 "cells": [
  {
   "cell_type": "markdown",
   "metadata": {},
   "source": [
    "<img src=\"FIFA_series_logo.svg.png\" alt=\"Drawing\" style=\"width: 200px;\"/>\n",
    "\n",
    "# FIFA voetbal casus\n",
    "\n",
    "### Voorwoord  <a id='Voorwoord'></a>\n",
    "In deze studie zullen Wail Abou, Bart de Vries en Youssef Boulfiham een aantal onderwerpen over FIFA onderzoeken. Voor dit onderzoek zullen we te werk gaan met datasets over voetbalspelers en voetbalwedstrijden uit het seizoen 2019-2020 Met behulp van statistische analyse zullen we trachten om tot nieuwe ontdekkingen en conclusies te komen.\n",
    "\n",
    "### Inhoudsopgave <a id='Inhoudsopgave'></a>\n",
    "- [Voorwoord](#Voorwoord)\n",
    "- [Inhoudsopgave](#Inhoudsopgave)\n",
    "- [Datasets](#Datasets)\n",
    "- [Onze verwachtingen](#Onze_verwachtingen)\n",
    "- [Onderzoeken](#Onderzoeken)\n",
    "    - [libraries importeren](#libraries_importeren)\n",
    "    - [spelers-dataset importeren](#spelers-dataset)\n",
    "    - [wedstrijden-dataset importeren](#wedstrijden-dataset)\n",
    "    - [Data cleaning](#Data_cleaning)\n",
    "    - [Spider plot van Spelers](#Spider_plot)\n",
    "    - [Onderzoeksvragen](#Onderzoeksvragen)\n",
    "        - [onderzoeksvraag 1](#1)\n",
    "        - [onderzoeksvraag 2](#2)\n",
    "        - [onderzoeksvraag 3](#3)\n",
    "\n",
    "### Datasets <a id='Datasets'></a>\n",
    "- FIFA-spelerseigenschappen van seizoen 2019-2020\n",
    "- FIFA-wedstrijd uitslagen van seizoen 2019-2020\n",
    "\n",
    "### Onze verwachtingen <a id='Onze_verwachtingen'></a>\n",
    "- Nieuwe inzichtingen over de prijs en kwaliteit verhoudingen van de spelers.\n",
    "- Voorspellingen van wedstrijden en slagingspercentage van deze wedstrijden.\n",
    "- Invloed van bepaalde specifieke factoren op de prijs bepaling van spelers.\n",
    "\n",
    "## Onderzoeken <a id='Onderzoeken'></a>\n",
    "\n",
    "###### libraries importeren <a id='libraries_importeren'></a>"
   ]
  },
  {
   "cell_type": "code",
   "execution_count": 1,
   "metadata": {
    "pycharm": {
     "name": "#%%\n"
    }
   },
   "outputs": [],
   "source": [
    "# libraries  importeren.\n",
    "import numpy as np\n",
    "import pandas as pd\n",
    "import matplotlib as mp\n",
    "import matplotlib.pyplot as plt\n",
    "import seaborn as sns\n",
    "import csv, glob, os\n",
    "from ipywidgets import interact, widgets, interactive\n",
    "from sklearn.linear_model import LinearRegression\n",
    "\n",
    "# modules voor warning supressions.\n",
    "import warnings\n",
    "import matplotlib.cbook\n",
    "warnings.filterwarnings(\"ignore\",category=matplotlib.cbook.mplDeprecation)"
   ]
  },
  {
   "cell_type": "markdown",
   "metadata": {},
   "source": [
    "###### Spelers-dataset importeren <a id='Spelers-dataset'></a>\n",
    "\n",
    "begeleidend schrijven."
   ]
  },
  {
   "cell_type": "code",
   "execution_count": 2,
   "metadata": {
    "scrolled": true
   },
   "outputs": [],
   "source": [
    "# .csv bestand uitlezen en omzetten naar pandas array van 18207x89\n",
    "players = pd.read_csv('csv/fifa19.csv')\n",
    "# players"
   ]
  },
  {
   "cell_type": "markdown",
   "metadata": {},
   "source": [
    "###### wedstrijden-dataset importeren <a id='wedstrijden-dataset'></a>\n",
    "\n",
    "begeleidend schrijven."
   ]
  },
  {
   "cell_type": "code",
   "execution_count": 3,
   "metadata": {},
   "outputs": [],
   "source": [
    "# Alle files via de path krijgen\n",
    "path = r'wedstrijden'     \n",
    "all_files = glob.glob(os.path.join(path, \"*.csv\"))\n",
    "\n",
    "# Alle files in een dataframe inlezen via een list comprehension\n",
    "data_frames = (pd.read_csv(f, encoding='cp1252', sep=';') for f in all_files)\n",
    "clubs = pd.concat(data_frames, ignore_index=True)\n",
    "\n",
    "# Relevanten kollommen selecteren\n",
    "clubs = clubs[[\"Date\", \"HomeTeam\", \"AwayTeam\", \"FTHG\", \"FTAG\"]]\n",
    "\n",
    "# De date omzetten naar de date object van panda\n",
    "clubs.Date = pd.to_datetime(clubs.Date)\n",
    "\n",
    "# De entries droppen die onder 2019 vallen\n",
    "clubs = clubs.drop(clubs[clubs.Date < pd.Timestamp(2019, 1, 1)].index)\n",
    "\n",
    "# Nieuwe kollom maken met de winnende team\n",
    "clubs[\"WinningTeam\"] = np.where(clubs[\"FTHG\"] >= clubs[\"FTAG\"], clubs[\"HomeTeam\"], clubs[\"AwayTeam\"])\n",
    "\n",
    "# clubs"
   ]
  },
  {
   "cell_type": "code",
   "execution_count": 4,
   "metadata": {
    "scrolled": true
   },
   "outputs": [],
   "source": [
    "#lijst van alle onderdelen van de dataset\n",
    "# print(\"kolommen:\\n\",players.columns)"
   ]
  },
  {
   "cell_type": "markdown",
   "metadata": {},
   "source": [
    "### Data cleaning <a id='Data_cleaning'></a>\n",
    "\n",
    "Data types controleren\n",
    "\n",
    "Bepaalde data types (height weight en value) omzetten naar float."
   ]
  },
  {
   "cell_type": "code",
   "execution_count": 5,
   "metadata": {
    "scrolled": false
   },
   "outputs": [
    {
     "data": {
      "text/plain": [
       "Unnamed: 0          int64\n",
       "ID                  int64\n",
       "Name               object\n",
       "Age                 int64\n",
       "Photo              object\n",
       "                   ...   \n",
       "GKHandling        float64\n",
       "GKKicking         float64\n",
       "GKPositioning     float64\n",
       "GKReflexes        float64\n",
       "Release Clause     object\n",
       "Length: 89, dtype: object"
      ]
     },
     "execution_count": 5,
     "metadata": {},
     "output_type": "execute_result"
    }
   ],
   "source": [
    "# data types van alle onderdelen.\n",
    "players.dtypes"
   ]
  },
  {
   "cell_type": "markdown",
   "metadata": {},
   "source": [
    "Controleren of lege kolommen in de dataset bevind.\n",
    "\n",
    "het grootste deel van alle waardes zijn er.\n",
    "bij de meeste mis onder 0,5% dus dit zal relatief schadeloos zijn."
   ]
  },
  {
   "cell_type": "code",
   "execution_count": 6,
   "metadata": {},
   "outputs": [
    {
     "name": "stdout",
     "output_type": "stream",
     "text": [
      "Unnamed: 0           0\n",
      "ID                   0\n",
      "Name                 0\n",
      "Age                  0\n",
      "Photo                0\n",
      "                  ... \n",
      "GKHandling          48\n",
      "GKKicking           48\n",
      "GKPositioning       48\n",
      "GKReflexes          48\n",
      "Release Clause    1564\n",
      "Length: 89, dtype: int64\n"
     ]
    }
   ],
   "source": [
    "#check voor lege waardes.\n",
    "print(pd.isnull(players).sum())"
   ]
  },
  {
   "cell_type": "code",
   "execution_count": 7,
   "metadata": {},
   "outputs": [],
   "source": [
    "# TEDOEN: dtypes wijzigen van height, weight en value."
   ]
  },
  {
   "cell_type": "code",
   "execution_count": 8,
   "metadata": {
    "scrolled": true
   },
   "outputs": [],
   "source": [
    "# TEDOEN: schrappen of verbeteren\n",
    "# frequentieverdeling\n",
    "# ax = sns.distplot(players.Overall, kde=False, rug=True)\n",
    "# ax = ax.set(xlabel='Overall', ylabel='frequentie')"
   ]
  },
  {
   "cell_type": "markdown",
   "metadata": {},
   "source": [
    "###### Spider plot van Spelers <a id='spider_plot'></a>"
   ]
  },
  {
   "cell_type": "code",
   "execution_count": 9,
   "metadata": {
    "pycharm": {
     "is_executing": true
    }
   },
   "outputs": [
    {
     "data": {
      "application/vnd.jupyter.widget-view+json": {
       "model_id": "87ab4ea990ed4af3a7004013b4f5b51e",
       "version_major": 2,
       "version_minor": 0
      },
      "text/plain": [
       "interactive(children=(Dropdown(description='Player 1:', options=('L. Messi', 'Cristiano Ronaldo', 'Neymar Jr',…"
      ]
     },
     "metadata": {},
     "output_type": "display_data"
    }
   ],
   "source": [
    "# Alleen relevante data selecteren en de beste en slechtste speler\n",
    "player_skills = ['Name', 'Agility', 'BallControl', 'Dribbling', 'Finishing','Stamina']\n",
    "\n",
    "# Alle spelers met de releveante data ophalen\n",
    "all_players = players[player_skills]\n",
    "all_players = all_players.set_index('Name')\n",
    "\n",
    "# Een lijst met namen van de 5 beste en 5 slechtse spelers\n",
    "all_names = list(all_players.head().index.values) + list(all_players.tail().index.values)\n",
    "\n",
    "# 2 Dropdown list widgets om een speler te kunnen selecteren\n",
    "player1_widget = widgets.Dropdown(options = all_names, value = all_names[0], description='Player 1:')\n",
    "player2_widget = widgets.Dropdown(options = all_names, value = all_names[-1], description='Player 2:')\n",
    "\n",
    "# Functie om gegeven 2 namen de spelers in een spiderplot te kunnen zetten\n",
    "def spiderplot_players(p1, p2):\n",
    "    # Groote van de plot bepalen\n",
    "    plt.figure(figsize=(20, 20))\n",
    "    \n",
    "    # De kollomen van de spelers ophalen\n",
    "    comparison_players = all_players.loc[[p1, p2]] \n",
    "\n",
    "    for name, skills in comparison_players.iterrows():\n",
    "        categories = skills.index.values\n",
    "\n",
    "        # Alle punten om te tekenen\n",
    "        points = list(skills.values)\n",
    "        points += points[:1]\n",
    "\n",
    "        # Alle hoeken berekenen\n",
    "        angles = [side / float(len(categories)) * 2 * np.pi for side in range(len(categories))]\n",
    "        angles += angles[:1]\n",
    "\n",
    "        # De spider plot aanmaken\n",
    "        sp = plt.subplot(3, 3, 1, polar=True)\n",
    "\n",
    "        # De categorieen weergeven\n",
    "        plt.xticks(angles, categories)\n",
    "\n",
    "        # De markers weergeven\n",
    "        plt.yticks([25, 50, 75], [\"25\", \"50\", \"75\"], color=\"grey\")\n",
    "        plt.ylim(0,100)\n",
    "\n",
    "        # Alles plotten en opvullen\n",
    "        sp.plot(angles, points)\n",
    "        sp.fill(angles, points, alpha=0.1)\n",
    "\n",
    "    # De titel plotten\n",
    "    names = comparison_players.index.values\n",
    "    plt.title(f'{names[0]} vs {names[1]}', y=1.1)\n",
    "    \n",
    "interactive(spiderplot_players, p1=player1_widget, p2=player2_widget)"
   ]
  },
  {
   "cell_type": "markdown",
   "metadata": {},
   "source": [
    "_Met behulp van de bovenstaande grafiek stellen we ons in staat om in een oogopslag de kernkwaliteiten van de spelers in te zien en te vergelijken._"
   ]
  },
  {
   "cell_type": "markdown",
   "metadata": {},
   "source": [
    "### Doel: alle westrijden in een dataframe te krijgen met een extra kolom voor de resultaten."
   ]
  },
  {
   "cell_type": "markdown",
   "metadata": {},
   "source": [
    "_Nu hebben we een handige tabel met daarin alleen de relevante data voor ons._"
   ]
  },
  {
   "cell_type": "markdown",
   "metadata": {},
   "source": []
  },
  {
   "cell_type": "markdown",
   "metadata": {},
   "source": [
    "### Onderzoeksvragen <a id='Onderzoeksvragen'></a>\n",
    "\n",
    "\n",
    "###### 1 In hoeverre is de prijs van een speler te voorspellen aan de hand van zijn belangrijkste kenmerken? <a id='1'></a>\n",
    "supervised\n",
    "Wij zullen bij deze vraag linear regression gebruiken om te kijken in hoeverre een punt bij de lijn zit, dit laat ons weten of er daadwerkelijk een linear verband is tussen de prijs van een speler en zijn belangrijkste kenmerken."
   ]
  },
  {
   "cell_type": "code",
   "execution_count": 10,
   "metadata": {
    "pycharm": {
     "is_executing": true
    }
   },
   "outputs": [
    {
     "data": {
      "image/png": "[encoded data removed]",
      "text/plain": [
       "<Figure size 432x288 with 1 Axes>"
      ]
     },
     "metadata": {
      "needs_background": "light"
     },
     "output_type": "display_data"
    }
   ],
   "source": [
    "value_players = players[['Agility', 'BallControl']][0:500]\n",
    "\n",
    "X = value_players.iloc[:, 0].values.reshape(-1, 1)\n",
    "Y = value_players.iloc[:, 1].values.reshape(-1, 1) \n",
    "\n",
    "linear_regressor = LinearRegression()\n",
    "linear_regressor.fit(X, Y)\n",
    "Y_pred = linear_regressor.predict(X)\n",
    "\n",
    "plt.scatter(X, Y, color='red')\n",
    "plt.plot(X, Y_pred, color='green')\n",
    "plt.show()"
   ]
  },
  {
   "cell_type": "markdown",
   "metadata": {},
   "source": [
    "###### Onderzoeksvraag 2 <a id='2'></a>\n",
    "\n",
    "__Kan je op basis van de gemiddelde waardes van een team voorspellen welke van de 2 teams zullen winnen?__\n",
    "\n",
    "\n",
    "unsupervised\n",
    "Bij deze vraag gaan we correlatie analyses uitvoeren en een externe dataset gebruiken om meer inzicht te vekrijgen, de externe dataset die we gaan gebruiken is de bovengenoemde \"FIFA-wedstrijd uitslagen van seizoen 2019-2020\"."
   ]
  },
  {
   "cell_type": "code",
   "execution_count": null,
   "metadata": {},
   "outputs": [],
   "source": []
  },
  {
   "cell_type": "markdown",
   "metadata": {},
   "source": [
    "###### Onderzoeksvraag 3 <a id='3'></a>\n",
    "__Is er een verband tussen de gewicht, lengte, prijs, leeftijd en positie van een speler?__\n",
    "\n",
    "unsupervised\n",
    "Hierbij zullen wij clustering gaan gebruiken om mogelijke patronen te ontdekken."
   ]
  },
  {
   "cell_type": "code",
   "execution_count": null,
   "metadata": {},
   "outputs": [],
   "source": []
  },
  {
   "cell_type": "markdown",
   "metadata": {
    "pycharm": {
     "name": "#%% md\n"
    }
   },
   "source": [
    "laatste opdracht: https://canvas.hu.nl/courses/20299/assignments/93793\n",
    "\n",
    "FIFA 2018\n",
    "\n",
    "Een voetbalcommentator beweert dat de potentie van de huidige generatie Engelse spelers sterk verschilt van spelers uit de rest van de wereld.\n",
    "\n",
    "Onderzoek met de dataset of de commentator gelijk heeft. Neem een steekproef van 100 Engelse spelers en beschouw als populatie alle niet-Engelse spelers in de data set. Kies als betrouwbaarheid 95%."
   ]
  },
  {
   "cell_type": "code",
   "execution_count": null,
   "metadata": {},
   "outputs": [],
   "source": []
  }
 ],
 "metadata": {
  "kernelspec": {
   "display_name": "Python 3",
   "language": "python",
   "name": "python3"
  },
  "language_info": {
   "codemirror_mode": {
    "name": "ipython",
    "version": 3
   },
   "file_extension": ".py",
   "mimetype": "text/x-python",
   "name": "python",
   "nbconvert_exporter": "python",
   "pygments_lexer": "ipython3",
   "version": "3.8.3"
  }
 },
 "nbformat": 4,
 "nbformat_minor": 4
}
