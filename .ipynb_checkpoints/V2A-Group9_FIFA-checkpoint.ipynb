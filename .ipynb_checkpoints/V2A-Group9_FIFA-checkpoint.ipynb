{
 "cells": [
  {
   "cell_type": "markdown",
   "metadata": {
    "collapsed": true
   },
   "source": [
    "                                                 FIFA voetbal casus\n",
    "                                    Wail Abou, Bart de Vries, Youssef Boulfiham\n",
    "                                                 Hogeschool Utrecht\n",
    "\n",
    "\n",
    "<div style=\"display: block; left-margin: 0px; right-margin: 0px;\"><img src=\"FIFA_series_logo.svg.png\" alt=\"Drawing\" style=\"width: 200px;\"/>\n",
    "\n",
    "\n",
    "In deze studie zullen wij een aantal onderwerpen over FIFA onderzoeken. Voor dit onderzoek zullen we te werk gaan met datasets over voetbalspelers en voetbalwedstrijden uit het seizoen 2019-2020 Met behulp van statistische analyse zullen we trachten om tot nieuwe ontdekkingen en conclusies te komen.\n",
    "\n",
    "## Onderzoeksvragen <a id='onderzoeksvragen'></a>\n",
    "1. In hoeverre is de prijs van een speler te voorspellen aan de hand van zijn belangrijkste kenmerken?\n",
    "2. Kan je op basis van de gemiddelde waardes van een team voorspellen welke van de 2 teams zullen winnen?\n",
    "3. Is er een verband tussen de gewicht, lengte, prijs, leeftijd en positie van een speler?\n",
    "4. Verschilt de potentie van de huidige generatie Engelse spelers sterk van spelers uit de rest van de wereld?\n",
    "\n",
    "## Datasets <a id='Datasets'></a>\n",
    "- FIFA-spelerseigenschappen van seizoen 2019-2020\n",
    "- FIFA-wedstrijd uitslagen van seizoen 2019-2020\n",
    "\n",
    "## Onze verwachtingen <a id='Onze_verwachtingen'></a>\n",
    "- Nieuwe inzichtingen over de prijs en kwaliteit verhoudingen van de spelers.\n",
    "- Voorspellingen van wedstrijden en slagingspercentage van deze wedstrijden.\n",
    "- Invloed van bepaalde specifieke factoren op de prijs bepaling van spelers.\n",
    "\n",
    "## importeer data"
   ]
  },
  {
   "cell_type": "code",
   "execution_count": 1,
   "metadata": {
    "pycharm": {
     "is_executing": true
    }
   },
   "outputs": [],
   "source": [
    "# data analysis\n",
    "import numpy as np\n",
    "import pandas as pd\n",
    "\n",
    "# visualizatie\n",
    "import matplotlib as mp\n",
    "import matplotlib.pyplot as plt\n",
    "import seaborn as sns\n",
    "from ipywidgets import interact, widgets, interactive\n",
    "\n",
    "# machine learning\n",
    "from sklearn.tree import DecisionTreeClassifier, export_graphviz\n",
    "from sklearn.model_selection import train_test_split\n",
    "from sklearn.metrics import accuracy_score, mean_squared_error, r2_score, confusion_matrix\n",
    "from sklearn.linear_model import LinearRegression\n",
    "from sklearn.neighbors import KNeighborsClassifier\n",
    "\n",
    "# clustering\n",
    "from sklearn.mixture import GaussianMixture\n",
    "from sklearn.cluster import KMeans\n",
    "from scipy.spatial import Voronoi, voronoi_plot_2d\n",
    "from mpl_toolkits.mplot3d import Axes3D\n",
    "\n",
    "# waarschuwing onderdrukking.\n",
    "import warnings\n",
    "import matplotlib.cbook\n",
    "warnings.filterwarnings(\"ignore\",category=matplotlib.cbook.mplDeprecation)\n",
    "\n",
    "# overige\n",
    "import glob, os"
   ]
  },
  {
   "cell_type": "markdown",
   "metadata": {},
   "source": [
    "## Importeer datasets"
   ]
  },
  {
   "cell_type": "code",
   "execution_count": 2,
   "metadata": {
    "pycharm": {
     "is_executing": true
    }
   },
   "outputs": [],
   "source": [
    "# spelers importeren.\n",
    "players = pd.read_csv('csv/fifa19.csv')\n",
    "\n",
    "# wedstrijden importeren.\n",
    "path = r'wedstrijden'     \n",
    "all_files = glob.glob(os.path.join(path, \"*.csv\"))\n",
    "data_frames = (pd.read_csv(f, encoding='cp1252', sep=';') for f in all_files)\n",
    "clubs = pd.concat(data_frames, ignore_index=True)\n",
    "\n",
    "# wedstrijden per competitie importeren.\n",
    "fields = [\"Date\", \"HomeTeam\", \"AwayTeam\", \"FTHG\", \"FTAG\"]\n",
    "nl = pd.read_csv('csv/nederland.csv',encoding='cp1252', sep=';', usecols=fields)\n",
    "uk = pd.read_csv('csv/engeland.csv',encoding='cp1252', sep=';', usecols=fields)\n",
    "fr = pd.read_csv('csv/frankrijk.csv',encoding='cp1252', sep=';', usecols=fields)\n",
    "be = pd.read_csv('csv/belgie.csv',encoding='cp1252', sep=';', usecols=fields)\n",
    "po = pd.read_csv('csv/polen.csv',encoding='cp1252', sep=';', usecols=fields)\n",
    "\n",
    "# selecteer kolommen.\n",
    "players = players[['Name', \"Club\", \"Age\", \"Nationality\", \"Value\", \"Overall\", \"Position\",\n",
    "                   \"Height\", \"Weight\", 'Stamina', 'Vision']]\n",
    "clubs = clubs[fields]"
   ]
  },
  {
   "cell_type": "markdown",
   "metadata": {},
   "source": [
    "## spelers opschonen"
   ]
  },
  {
   "cell_type": "code",
   "execution_count": 3,
   "metadata": {
    "pycharm": {
     "is_executing": true
    }
   },
   "outputs": [],
   "source": [
    "# verwijder alle rijen die lege kolommen bevatten.\n",
    "players = players.dropna()\n",
    "\n",
    "# We halen de lbs aan het einde weg en zetten we het om in een float\n",
    "players['Weight'] = players['Weight'].str[:-3].astype(float)\n",
    "\n",
    "# We halen de ' weg en vervangen het met . en vervolgens zetten we het om in een float\n",
    "players['Height'] = players['Height'].str.replace(\"'\", \".\").astype(float)\n",
    "\n",
    "# We halen de € en . weg, vervolgens vervangen we M met 6 nullen en K met 3 nullen en zetten het om in een int\n",
    "players['Value'] = players['Value'].str.replace('€', '').str.replace('.', '')\n",
    "players['Value'] = players['Value'].str.replace('M', '000000')\n",
    "players['Value'] = players['Value'].str.replace('K', '000').astype(int)\n",
    "\n",
    "# spellingscontrole op alle clubnamen\n",
    "players[\"Club\"] = players[\"Club\"].str.replace(\"1. \", \"\")\n",
    "\n",
    "# dtypes van bepaalde omzetten naar int64.\n",
    "# lijst = ['Height', 'Weight', 'Agility', 'Finishing','Dribbling', 'Stamina', 'BallControl', 'LongPassing', 'Vision', 'Positioning']\n",
    "# for i in lijst: players[i] = players[i].astype(np.int64)"
   ]
  },
  {
   "cell_type": "code",
   "execution_count": 4,
   "metadata": {
    "pycharm": {
     "is_executing": true
    },
    "scrolled": true
   },
   "outputs": [
    {
     "data": {
      "text/html": [
       "<div>\n",
       "<style scoped>\n",
       "    .dataframe tbody tr th:only-of-type {\n",
       "        vertical-align: middle;\n",
       "    }\n",
       "\n",
       "    .dataframe tbody tr th {\n",
       "        vertical-align: top;\n",
       "    }\n",
       "\n",
       "    .dataframe thead th {\n",
       "        text-align: right;\n",
       "    }\n",
       "</style>\n",
       "<table border=\"1\" class=\"dataframe\">\n",
       "  <thead>\n",
       "    <tr style=\"text-align: right;\">\n",
       "      <th></th>\n",
       "      <th>Name</th>\n",
       "      <th>Club</th>\n",
       "      <th>Age</th>\n",
       "      <th>Nationality</th>\n",
       "      <th>Value</th>\n",
       "      <th>Overall</th>\n",
       "      <th>Position</th>\n",
       "      <th>Height</th>\n",
       "      <th>Weight</th>\n",
       "      <th>Stamina</th>\n",
       "      <th>Vision</th>\n",
       "    </tr>\n",
       "  </thead>\n",
       "  <tbody>\n",
       "    <tr>\n",
       "      <th>15102</th>\n",
       "      <td>C. Torres</td>\n",
       "      <td>Club León</td>\n",
       "      <td>22</td>\n",
       "      <td>Mexico</td>\n",
       "      <td>290000</td>\n",
       "      <td>60</td>\n",
       "      <td>CB</td>\n",
       "      <td>6.0</td>\n",
       "      <td>172.0</td>\n",
       "      <td>65.0</td>\n",
       "      <td>32.0</td>\n",
       "    </tr>\n",
       "    <tr>\n",
       "      <th>17588</th>\n",
       "      <td>Lucas Ribeiro</td>\n",
       "      <td>Valenciennes FC</td>\n",
       "      <td>19</td>\n",
       "      <td>Brazil</td>\n",
       "      <td>130000</td>\n",
       "      <td>53</td>\n",
       "      <td>LM</td>\n",
       "      <td>5.8</td>\n",
       "      <td>132.0</td>\n",
       "      <td>31.0</td>\n",
       "      <td>44.0</td>\n",
       "    </tr>\n",
       "    <tr>\n",
       "      <th>14243</th>\n",
       "      <td>Álex Dos Santos</td>\n",
       "      <td>Atlético Madrid</td>\n",
       "      <td>19</td>\n",
       "      <td>Brazil</td>\n",
       "      <td>450000</td>\n",
       "      <td>61</td>\n",
       "      <td>GK</td>\n",
       "      <td>6.1</td>\n",
       "      <td>172.0</td>\n",
       "      <td>45.0</td>\n",
       "      <td>33.0</td>\n",
       "    </tr>\n",
       "  </tbody>\n",
       "</table>\n",
       "</div>"
      ],
      "text/plain": [
       "                  Name             Club  Age Nationality   Value  Overall  \\\n",
       "15102        C. Torres        Club León   22      Mexico  290000       60   \n",
       "17588    Lucas Ribeiro  Valenciennes FC   19      Brazil  130000       53   \n",
       "14243  Álex Dos Santos  Atlético Madrid   19      Brazil  450000       61   \n",
       "\n",
       "      Position  Height  Weight  Stamina  Vision  \n",
       "15102       CB     6.0   172.0     65.0    32.0  \n",
       "17588       LM     5.8   132.0     31.0    44.0  \n",
       "14243       GK     6.1   172.0     45.0    33.0  "
      ]
     },
     "execution_count": 4,
     "metadata": {},
     "output_type": "execute_result"
    }
   ],
   "source": [
    "players.sample(3)"
   ]
  },
  {
   "cell_type": "code",
   "execution_count": 5,
   "metadata": {
    "pycharm": {
     "is_executing": true
    }
   },
   "outputs": [
    {
     "data": {
      "text/plain": [
       "Name            object\n",
       "Club            object\n",
       "Age              int64\n",
       "Nationality     object\n",
       "Value            int32\n",
       "Overall          int64\n",
       "Position        object\n",
       "Height         float64\n",
       "Weight         float64\n",
       "Stamina        float64\n",
       "Vision         float64\n",
       "dtype: object"
      ]
     },
     "execution_count": 5,
     "metadata": {},
     "output_type": "execute_result"
    }
   ],
   "source": [
    "players.dtypes"
   ]
  },
  {
   "cell_type": "code",
   "execution_count": 6,
   "metadata": {
    "pycharm": {
     "is_executing": true
    },
    "scrolled": true
   },
   "outputs": [
    {
     "data": {
      "text/plain": [
       "Name           0\n",
       "Club           0\n",
       "Age            0\n",
       "Nationality    0\n",
       "Value          0\n",
       "Overall        0\n",
       "Position       0\n",
       "Height         0\n",
       "Weight         0\n",
       "Stamina        0\n",
       "Vision         0\n",
       "dtype: int64"
      ]
     },
     "execution_count": 6,
     "metadata": {},
     "output_type": "execute_result"
    }
   ],
   "source": [
    "pd.isnull(players).sum()"
   ]
  },
  {
   "cell_type": "markdown",
   "metadata": {},
   "source": [
    "# wedstrijden opschonen"
   ]
  },
  {
   "cell_type": "code",
   "execution_count": 7,
   "metadata": {
    "pycharm": {
     "is_executing": true
    }
   },
   "outputs": [],
   "source": [
    "# bepalen welke team heeft gewonnen.\n",
    "nl[\"WT\"] = np.where(nl[\"FTHG\"] > nl[\"FTAG\"], 0, 2)\n",
    "nl[\"WT\"] = np.where(nl[\"FTHG\"] == nl[\"FTAG\"], 1, nl[\"WT\"] )"
   ]
  },
  {
   "cell_type": "markdown",
   "metadata": {},
   "source": [
    "onderstaande drie celblokken heeft veel rekenkracht nodig."
   ]
  },
  {
   "cell_type": "code",
   "execution_count": 8,
   "metadata": {
    "pycharm": {
     "is_executing": true
    }
   },
   "outputs": [],
   "source": [
    "def functie(competitie):\n",
    "    var = players.groupby(\"Club\")[\"Stamina\"].apply(list)\n",
    "    var = var.reset_index()\n",
    "\n",
    "    lijst = []\n",
    "    for i in var[\"Stamina\"]:\n",
    "        a = i[:14]\n",
    "        a.sort(reverse = True)\n",
    "        a = round(sum(a)/14,2)\n",
    "        lijst.append(a)\n",
    "    var[\"avg_Stamina\"] = lijst\n",
    "    var = var.drop(columns=['Stamina'])\n",
    "\n",
    "    lijst1 = []\n",
    "    for i in range(len(competitie)):\n",
    "        for j in range(len(var)):\n",
    "            if competitie[\"HomeTeam\"][i] == var[\"Club\"][j]:\n",
    "                lijst1.append(var[\"avg_Stamina\"][j])\n",
    "    competitie[\"Stamina_HT\"] = lijst1\n",
    "\n",
    "    lijst2 = []\n",
    "    for i in range(len(competitie)):\n",
    "        for j in range(len(var)):\n",
    "            if competitie[\"AwayTeam\"][i] == var[\"Club\"][j]:\n",
    "                lijst2.append(var[\"avg_Stamina\"][j])\n",
    "    competitie[\"Stamina_AT\"] = lijst2\n",
    "\n",
    "    competitie['Stamina'] = np.where(competitie[\"Stamina_HT\"] > competitie[\"Stamina_AT\"], 0, 2)\n",
    "    competitie['Stamina'] = np.where(competitie[\"Stamina_HT\"] == competitie[\"Stamina_AT\"], 1, competitie['Stamina'])\n",
    "\n",
    "functie(nl)"
   ]
  },
  {
   "cell_type": "code",
   "execution_count": 9,
   "metadata": {
    "pycharm": {
     "is_executing": true
    }
   },
   "outputs": [],
   "source": [
    "def functie1(competitie):\n",
    "    var = players.groupby(\"Club\")[\"Overall\"].apply(list)\n",
    "    var = var.reset_index()\n",
    "\n",
    "    lijst = []\n",
    "    for i in var[\"Overall\"]:\n",
    "        a = i[:14]\n",
    "        a.sort(reverse = True)\n",
    "        a = round(sum(a)/14,2)\n",
    "        lijst.append(a)\n",
    "    var[\"avg_Overall\"] = lijst\n",
    "    var = var.drop(columns=['Overall'])\n",
    "\n",
    "    lijst1 = []\n",
    "    for i in range(len(competitie)):\n",
    "        for j in range(len(var)):\n",
    "            if competitie[\"HomeTeam\"][i] == var[\"Club\"][j]:\n",
    "                lijst1.append(var[\"avg_Overall\"][j])\n",
    "    competitie[\"Overall_HT\"] = lijst1\n",
    "\n",
    "    lijst2 = []\n",
    "    for i in range(len(competitie)):\n",
    "        for j in range(len(var)):\n",
    "            if competitie[\"AwayTeam\"][i] == var[\"Club\"][j]:\n",
    "                lijst2.append(var[\"avg_Overall\"][j])\n",
    "    competitie[\"Overall_AT\"] = lijst2\n",
    "\n",
    "    competitie['Overall'] = np.where(competitie[\"Overall_HT\"] > competitie[\"Overall_AT\"], 0, 2)\n",
    "    competitie['Overall'] = np.where(competitie[\"Overall_HT\"] == competitie[\"Overall_AT\"], 1, competitie['Overall'])\n",
    "\n",
    "functie1(nl)"
   ]
  },
  {
   "cell_type": "code",
   "execution_count": 10,
   "metadata": {
    "pycharm": {
     "is_executing": true
    }
   },
   "outputs": [],
   "source": [
    "def functie2(competitie):\n",
    "    var = players.groupby(\"Club\")[\"Vision\"].apply(list)\n",
    "    var = var.reset_index()\n",
    "\n",
    "    lijst = []\n",
    "    for i in var[\"Vision\"]:\n",
    "        a = i[:14]\n",
    "        a.sort(reverse = True)\n",
    "        a = round(sum(a)/14,2)\n",
    "        lijst.append(a)\n",
    "    var[\"avg_Vision\"] = lijst\n",
    "    var = var.drop(columns=['Vision'])\n",
    "\n",
    "    lijst1 = []\n",
    "    for i in range(len(competitie)):\n",
    "        for j in range(len(var)):\n",
    "            if competitie[\"HomeTeam\"][i] == var[\"Club\"][j]:\n",
    "                lijst1.append(var[\"avg_Vision\"][j])\n",
    "    competitie[\"Vision_HT\"] = lijst1\n",
    "\n",
    "    lijst2 = []\n",
    "    for i in range(len(competitie)):\n",
    "        for j in range(len(var)):\n",
    "            if competitie[\"AwayTeam\"][i] == var[\"Club\"][j]:\n",
    "                lijst2.append(var[\"avg_Vision\"][j])\n",
    "    competitie[\"Vision_AT\"] = lijst2\n",
    "\n",
    "    competitie['Vision'] = np.where(competitie[\"Vision_HT\"] > competitie[\"Vision_AT\"], 0, 2)\n",
    "    competitie['Vision'] = np.where(competitie[\"Vision_HT\"] == competitie[\"Vision_AT\"], 1, competitie['Vision'])\n",
    "\n",
    "functie2(nl)"
   ]
  },
  {
   "cell_type": "code",
   "execution_count": 11,
   "metadata": {
    "pycharm": {
     "is_executing": true
    }
   },
   "outputs": [
    {
     "data": {
      "text/html": [
       "<div>\n",
       "<style scoped>\n",
       "    .dataframe tbody tr th:only-of-type {\n",
       "        vertical-align: middle;\n",
       "    }\n",
       "\n",
       "    .dataframe tbody tr th {\n",
       "        vertical-align: top;\n",
       "    }\n",
       "\n",
       "    .dataframe thead th {\n",
       "        text-align: right;\n",
       "    }\n",
       "</style>\n",
       "<table border=\"1\" class=\"dataframe\">\n",
       "  <thead>\n",
       "    <tr style=\"text-align: right;\">\n",
       "      <th></th>\n",
       "      <th>Date</th>\n",
       "      <th>HomeTeam</th>\n",
       "      <th>AwayTeam</th>\n",
       "      <th>FTHG</th>\n",
       "      <th>FTAG</th>\n",
       "      <th>WT</th>\n",
       "      <th>Stamina_HT</th>\n",
       "      <th>Stamina_AT</th>\n",
       "      <th>Stamina</th>\n",
       "      <th>Overall_HT</th>\n",
       "      <th>Overall_AT</th>\n",
       "      <th>Overall</th>\n",
       "      <th>Vision_HT</th>\n",
       "      <th>Vision_AT</th>\n",
       "      <th>Vision</th>\n",
       "    </tr>\n",
       "  </thead>\n",
       "  <tbody>\n",
       "    <tr>\n",
       "      <th>141</th>\n",
       "      <td>16.12.2018</td>\n",
       "      <td>Feyenoord</td>\n",
       "      <td>Fortuna Sittard</td>\n",
       "      <td>0</td>\n",
       "      <td>2</td>\n",
       "      <td>2</td>\n",
       "      <td>73.0</td>\n",
       "      <td>63.21</td>\n",
       "      <td>0</td>\n",
       "      <td>75.43</td>\n",
       "      <td>67.86</td>\n",
       "      <td>0</td>\n",
       "      <td>65.64</td>\n",
       "      <td>57.71</td>\n",
       "      <td>0</td>\n",
       "    </tr>\n",
       "    <tr>\n",
       "      <th>218</th>\n",
       "      <td>9.03.2019</td>\n",
       "      <td>VVV-Venlo</td>\n",
       "      <td>Excelsior</td>\n",
       "      <td>1</td>\n",
       "      <td>0</td>\n",
       "      <td>0</td>\n",
       "      <td>64.5</td>\n",
       "      <td>61.86</td>\n",
       "      <td>0</td>\n",
       "      <td>67.93</td>\n",
       "      <td>67.36</td>\n",
       "      <td>0</td>\n",
       "      <td>58.21</td>\n",
       "      <td>58.93</td>\n",
       "      <td>2</td>\n",
       "    </tr>\n",
       "    <tr>\n",
       "      <th>30</th>\n",
       "      <td>1.09.2018</td>\n",
       "      <td>PSV</td>\n",
       "      <td>Willem II</td>\n",
       "      <td>6</td>\n",
       "      <td>1</td>\n",
       "      <td>0</td>\n",
       "      <td>77.0</td>\n",
       "      <td>60.79</td>\n",
       "      <td>0</td>\n",
       "      <td>77.07</td>\n",
       "      <td>69.14</td>\n",
       "      <td>0</td>\n",
       "      <td>67.64</td>\n",
       "      <td>57.43</td>\n",
       "      <td>0</td>\n",
       "    </tr>\n",
       "  </tbody>\n",
       "</table>\n",
       "</div>"
      ],
      "text/plain": [
       "           Date   HomeTeam         AwayTeam  FTHG  FTAG  WT  Stamina_HT  \\\n",
       "141  16.12.2018  Feyenoord  Fortuna Sittard     0     2   2        73.0   \n",
       "218   9.03.2019  VVV-Venlo        Excelsior     1     0   0        64.5   \n",
       "30    1.09.2018        PSV        Willem II     6     1   0        77.0   \n",
       "\n",
       "     Stamina_AT  Stamina  Overall_HT  Overall_AT  Overall  Vision_HT  \\\n",
       "141       63.21        0       75.43       67.86        0      65.64   \n",
       "218       61.86        0       67.93       67.36        0      58.21   \n",
       "30        60.79        0       77.07       69.14        0      67.64   \n",
       "\n",
       "     Vision_AT  Vision  \n",
       "141      57.71       0  \n",
       "218      58.93       2  \n",
       "30       57.43       0  "
      ]
     },
     "execution_count": 11,
     "metadata": {},
     "output_type": "execute_result"
    }
   ],
   "source": [
    "nl.sample(3)"
   ]
  },
  {
   "cell_type": "code",
   "execution_count": 12,
   "metadata": {
    "pycharm": {
     "is_executing": true
    },
    "scrolled": true
   },
   "outputs": [
    {
     "data": {
      "text/plain": [
       "Date           object\n",
       "HomeTeam       object\n",
       "AwayTeam       object\n",
       "FTHG            int64\n",
       "FTAG            int64\n",
       "WT              int32\n",
       "Stamina_HT    float64\n",
       "Stamina_AT    float64\n",
       "Stamina         int32\n",
       "Overall_HT    float64\n",
       "Overall_AT    float64\n",
       "Overall         int32\n",
       "Vision_HT     float64\n",
       "Vision_AT     float64\n",
       "Vision          int32\n",
       "dtype: object"
      ]
     },
     "execution_count": 12,
     "metadata": {},
     "output_type": "execute_result"
    }
   ],
   "source": [
    "nl.dtypes"
   ]
  },
  {
   "cell_type": "code",
   "execution_count": 13,
   "metadata": {
    "pycharm": {
     "is_executing": true
    }
   },
   "outputs": [
    {
     "data": {
      "text/plain": [
       "Date          0\n",
       "HomeTeam      0\n",
       "AwayTeam      0\n",
       "FTHG          0\n",
       "FTAG          0\n",
       "WT            0\n",
       "Stamina_HT    0\n",
       "Stamina_AT    0\n",
       "Stamina       0\n",
       "Overall_HT    0\n",
       "Overall_AT    0\n",
       "Overall       0\n",
       "Vision_HT     0\n",
       "Vision_AT     0\n",
       "Vision        0\n",
       "dtype: int64"
      ]
     },
     "execution_count": 13,
     "metadata": {},
     "output_type": "execute_result"
    }
   ],
   "source": [
    "pd.isnull(nl).sum()"
   ]
  },
  {
   "cell_type": "markdown",
   "metadata": {},
   "source": [
    "## Onderzoeksvraag 2\n",
    "\n",
    "__Kan je op basis van de gemiddelde waardes van een team voorspellen welke van de twee teams zullen winnen?__"
   ]
  },
  {
   "cell_type": "code",
   "execution_count": 14,
   "metadata": {
    "pycharm": {
     "is_executing": true
    }
   },
   "outputs": [
    {
     "name": "stdout",
     "output_type": "stream",
     "text": [
      "229 elementen in de trainset en 77 elementen in de testset\n"
     ]
    }
   ],
   "source": [
    "model = DecisionTreeClassifier()\n",
    "\n",
    "# bepaal features & target variabele\n",
    "feat_names = ['Overall','Stamina', 'Vision']\n",
    "feats = np.array(nl[feat_names])\n",
    "cat = nl['WT']\n",
    "\n",
    "feats_train, feats_test, cat_train, cat_test = train_test_split(feats, cat, random_state=10)\n",
    "print(\"{} elementen in de trainset en {} elementen in de testset\".format(len(cat_train), len(feats_test)))"
   ]
  },
  {
   "cell_type": "code",
   "execution_count": 15,
   "metadata": {
    "pycharm": {
     "is_executing": true
    }
   },
   "outputs": [
    {
     "data": {
      "text/plain": [
       "0.6363636363636364"
      ]
     },
     "execution_count": 15,
     "metadata": {},
     "output_type": "execute_result"
    }
   ],
   "source": [
    "model.fit(feats_train, cat_train)\n",
    "# M.b.v. de score wordt de accuracy berekend: het percentage voorspellingen dat correct\n",
    "model.score(feats_test, cat_test)"
   ]
  },
  {
   "cell_type": "code",
   "execution_count": 16,
   "metadata": {
    "pycharm": {
     "is_executing": true
    }
   },
   "outputs": [
    {
     "data": {
      "text/plain": [
       "0.6363636363636364"
      ]
     },
     "execution_count": 16,
     "metadata": {},
     "output_type": "execute_result"
    }
   ],
   "source": [
    "# Alternatieve manier om de voorspellende waarde te berekenen is door het model de klasse te voorspellen voor\n",
    "# de testset van de features en deze te vergelijken met de testset van de klassen.\n",
    "cat_model = model.predict(feats_test)\n",
    "accuracy_score(cat_test, cat_model)"
   ]
  },
  {
   "cell_type": "code",
   "execution_count": 17,
   "metadata": {
    "pycharm": {
     "is_executing": true
    },
    "scrolled": false
   },
   "outputs": [
    {
     "data": {
      "image/png": "[encoded data removed]",
      "text/plain": [
       "<Figure size 600x500 with 2 Axes>"
      ]
     },
     "metadata": {
      "needs_background": "light"
     },
     "output_type": "display_data"
    }
   ],
   "source": [
    "# Het is ook interessant om te kijken welke voorspellingen goed gaan en welke niet gaan. \n",
    "# Je ziet dat vooral de NY-huizen niet goed voorspeld worden. Dus het is zaak om onderscheidende features toe te voegen.\n",
    "\n",
    "import seaborn as sns \n",
    "from sklearn.metrics import accuracy_score, confusion_matrix\n",
    "cm = confusion_matrix(cat_test, cat_model)\n",
    "\n",
    "# Maak van de array een pandas dataframe om te visualiseren\n",
    "df_cm = pd.DataFrame(cm)\n",
    "\n",
    "fig, ax = plt.subplots(figsize=(6, 5), dpi=100)\n",
    "\n",
    "ax = sns.heatmap(df_cm, annot=True, cmap='OrRd', fmt='d')\n",
    "bottom, top = ax.get_ylim()\n",
    "ax.set_ylim(bottom + 0.5, top - 0.5)\n",
    "\n",
    "ax.set_xlabel('voorspelde waarde')\n",
    "ax.set_ylabel('echte waarde')\n",
    "\n",
    "plt.show()"
   ]
  }
 ],
 "metadata": {
  "kernelspec": {
   "display_name": "Python 3",
   "language": "python",
   "name": "python3"
  },
  "language_info": {
   "codemirror_mode": {
    "name": "ipython",
    "version": 3
   },
   "file_extension": ".py",
   "mimetype": "text/x-python",
   "name": "python",
   "nbconvert_exporter": "python",
   "pygments_lexer": "ipython3",
   "version": "3.8.3"
  }
 },
 "nbformat": 4,
 "nbformat_minor": 1
}
